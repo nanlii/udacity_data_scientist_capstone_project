{
 "cells": [
  {
   "cell_type": "markdown",
   "metadata": {},
   "source": [
    "## Part 2: Supervised Learning Model\n",
    "\n",
    "Now that you've found which parts of the population are more likely to be customers of the mail-order company, it's time to build a prediction model. Each of the rows in the \"MAILOUT\" data files represents an individual that was targeted for a mailout campaign. Ideally, we should be able to use the demographic information from each individual to decide whether or not it will be worth it to include that person in the campaign.\n",
    "\n",
    "The \"MAILOUT\" data has been split into two approximately equal parts, each with almost 43 000 data rows. In this part, you can verify your model with the \"TRAIN\" partition, which includes a column, \"RESPONSE\", that states whether or not a person became a customer of the company following the campaign. In the next part, you'll need to create predictions on the \"TEST\" partition, where the \"RESPONSE\" column has been withheld."
   ]
  },
  {
   "cell_type": "code",
   "execution_count": 48,
   "metadata": {},
   "outputs": [],
   "source": [
    "# import libraries here; add more as necessary\n",
    "import numpy as np\n",
    "import pandas as pd\n",
    "import matplotlib.pyplot as plt\n",
    "import seaborn as sns\n",
    "import time\n",
    "import pickle\n",
    "sns.color_palette('Paired')\n",
    "\n",
    "from sklearn.impute import SimpleImputer\n",
    "from sklearn.preprocessing import StandardScaler \n",
    "\n",
    "from sklearn.linear_model import LogisticRegression\n",
    "from sklearn.model_selection import train_test_split\n",
    "from sklearn.metrics import roc_auc_score\n",
    "from sklearn.metrics import confusion_matrix\n",
    "from sklearn.metrics import accuracy_score\n",
    "# from sklearn.metrics import precision_recall_curve\n",
    "from sklearn.model_selection import cross_val_score\n",
    "from sklearn.model_selection import learning_curve\n",
    "\n",
    "\n",
    "from sklearn.ensemble import RandomForestClassifier, AdaBoostClassifier, GradientBoostingClassifier\n",
    "import xgboost as xgb\n",
    "from sklearn import tree\n",
    "from sklearn import svm\n",
    "\n",
    "\n",
    "from sklearn.model_selection import GridSearchCV\n",
    "%matplotlib inline"
   ]
  },
  {
   "cell_type": "markdown",
   "metadata": {},
   "source": [
    "### Data Preparation\n",
    "First of all, I will take a look at the mailout training dataset, and use the ETL functions notebook that I created before to clean the data."
   ]
  },
  {
   "cell_type": "code",
   "execution_count": 2,
   "metadata": {},
   "outputs": [],
   "source": [
    "mailout_train = pd.read_csv('./data/Udacity_MAILOUT_052018_TRAIN.csv', sep=';', low_memory=False)"
   ]
  },
  {
   "cell_type": "code",
   "execution_count": 3,
   "metadata": {},
   "outputs": [
    {
     "data": {
      "text/plain": [
       "(42962, 367)"
      ]
     },
     "execution_count": 3,
     "metadata": {},
     "output_type": "execute_result"
    }
   ],
   "source": [
    "mailout_train.shape"
   ]
  },
  {
   "cell_type": "code",
   "execution_count": 4,
   "metadata": {},
   "outputs": [
    {
     "data": {
      "text/plain": [
       "0    42430\n",
       "1      532\n",
       "Name: RESPONSE, dtype: int64"
      ]
     },
     "execution_count": 4,
     "metadata": {},
     "output_type": "execute_result"
    }
   ],
   "source": [
    "mailout_train.RESPONSE.value_counts()"
   ]
  },
  {
   "cell_type": "code",
   "execution_count": 5,
   "metadata": {},
   "outputs": [
    {
     "data": {
      "text/plain": [
       "42962"
      ]
     },
     "execution_count": 5,
     "metadata": {},
     "output_type": "execute_result"
    }
   ],
   "source": [
    "mailout_train.LNR.nunique()"
   ]
  },
  {
   "cell_type": "markdown",
   "metadata": {},
   "source": [
    "Rerun ETL Functions notebook, replace azdias data to mailout training data to obtain the cleaned dataset."
   ]
  },
  {
   "cell_type": "code",
   "execution_count": 6,
   "metadata": {},
   "outputs": [],
   "source": [
    "mailout_train_clean = pd.read_csv('./data/mailout_train_cleaned.csv', index_col=0)"
   ]
  },
  {
   "cell_type": "code",
   "execution_count": 7,
   "metadata": {},
   "outputs": [
    {
     "data": {
      "text/html": [
       "<div>\n",
       "<style scoped>\n",
       "    .dataframe tbody tr th:only-of-type {\n",
       "        vertical-align: middle;\n",
       "    }\n",
       "\n",
       "    .dataframe tbody tr th {\n",
       "        vertical-align: top;\n",
       "    }\n",
       "\n",
       "    .dataframe thead th {\n",
       "        text-align: right;\n",
       "    }\n",
       "</style>\n",
       "<table border=\"1\" class=\"dataframe\">\n",
       "  <thead>\n",
       "    <tr style=\"text-align: right;\">\n",
       "      <th></th>\n",
       "      <th>LNR</th>\n",
       "      <th>AGER_TYP</th>\n",
       "      <th>AKT_DAT_KL</th>\n",
       "      <th>ALTER_HH</th>\n",
       "      <th>ALTERSKATEGORIE_FEIN</th>\n",
       "      <th>ANZ_HAUSHALTE_AKTIV</th>\n",
       "      <th>ANZ_KINDER</th>\n",
       "      <th>ANZ_PERSONEN</th>\n",
       "      <th>ANZ_STATISTISCHE_HAUSHALTE</th>\n",
       "      <th>ARBEIT</th>\n",
       "      <th>...</th>\n",
       "      <th>VK_DHT4A</th>\n",
       "      <th>VK_DISTANZ</th>\n",
       "      <th>VK_ZG11</th>\n",
       "      <th>W_KEIT_KIND_HH</th>\n",
       "      <th>WOHNDAUER_2008</th>\n",
       "      <th>WOHNLAGE</th>\n",
       "      <th>ZABEOTYP</th>\n",
       "      <th>RESPONSE</th>\n",
       "      <th>ANREDE_KZ</th>\n",
       "      <th>ALTERSKATEGORIE_GROB</th>\n",
       "    </tr>\n",
       "  </thead>\n",
       "  <tbody>\n",
       "    <tr>\n",
       "      <th>0</th>\n",
       "      <td>1763</td>\n",
       "      <td>2.0</td>\n",
       "      <td>1.0</td>\n",
       "      <td>8.0</td>\n",
       "      <td>8.0</td>\n",
       "      <td>NaN</td>\n",
       "      <td>0.0</td>\n",
       "      <td>1.0</td>\n",
       "      <td>13.0</td>\n",
       "      <td>3.0</td>\n",
       "      <td>...</td>\n",
       "      <td>5.0</td>\n",
       "      <td>2.0</td>\n",
       "      <td>1.0</td>\n",
       "      <td>6.0</td>\n",
       "      <td>9.0</td>\n",
       "      <td>3.0</td>\n",
       "      <td>3</td>\n",
       "      <td>0</td>\n",
       "      <td>2</td>\n",
       "      <td>4</td>\n",
       "    </tr>\n",
       "    <tr>\n",
       "      <th>1</th>\n",
       "      <td>1771</td>\n",
       "      <td>1.0</td>\n",
       "      <td>4.0</td>\n",
       "      <td>13.0</td>\n",
       "      <td>13.0</td>\n",
       "      <td>1.0</td>\n",
       "      <td>0.0</td>\n",
       "      <td>2.0</td>\n",
       "      <td>1.0</td>\n",
       "      <td>2.0</td>\n",
       "      <td>...</td>\n",
       "      <td>1.0</td>\n",
       "      <td>2.0</td>\n",
       "      <td>1.0</td>\n",
       "      <td>4.0</td>\n",
       "      <td>9.0</td>\n",
       "      <td>7.0</td>\n",
       "      <td>1</td>\n",
       "      <td>0</td>\n",
       "      <td>2</td>\n",
       "      <td>3</td>\n",
       "    </tr>\n",
       "    <tr>\n",
       "      <th>2</th>\n",
       "      <td>1776</td>\n",
       "      <td>1.0</td>\n",
       "      <td>1.0</td>\n",
       "      <td>9.0</td>\n",
       "      <td>7.0</td>\n",
       "      <td>NaN</td>\n",
       "      <td>0.0</td>\n",
       "      <td>NaN</td>\n",
       "      <td>1.0</td>\n",
       "      <td>4.0</td>\n",
       "      <td>...</td>\n",
       "      <td>6.0</td>\n",
       "      <td>4.0</td>\n",
       "      <td>2.0</td>\n",
       "      <td>NaN</td>\n",
       "      <td>9.0</td>\n",
       "      <td>2.0</td>\n",
       "      <td>3</td>\n",
       "      <td>0</td>\n",
       "      <td>1</td>\n",
       "      <td>4</td>\n",
       "    </tr>\n",
       "    <tr>\n",
       "      <th>3</th>\n",
       "      <td>1460</td>\n",
       "      <td>2.0</td>\n",
       "      <td>1.0</td>\n",
       "      <td>6.0</td>\n",
       "      <td>6.0</td>\n",
       "      <td>4.0</td>\n",
       "      <td>0.0</td>\n",
       "      <td>2.0</td>\n",
       "      <td>4.0</td>\n",
       "      <td>4.0</td>\n",
       "      <td>...</td>\n",
       "      <td>8.0</td>\n",
       "      <td>11.0</td>\n",
       "      <td>11.0</td>\n",
       "      <td>6.0</td>\n",
       "      <td>9.0</td>\n",
       "      <td>1.0</td>\n",
       "      <td>3</td>\n",
       "      <td>0</td>\n",
       "      <td>2</td>\n",
       "      <td>4</td>\n",
       "    </tr>\n",
       "    <tr>\n",
       "      <th>4</th>\n",
       "      <td>1783</td>\n",
       "      <td>2.0</td>\n",
       "      <td>1.0</td>\n",
       "      <td>9.0</td>\n",
       "      <td>9.0</td>\n",
       "      <td>NaN</td>\n",
       "      <td>0.0</td>\n",
       "      <td>1.0</td>\n",
       "      <td>44.0</td>\n",
       "      <td>3.0</td>\n",
       "      <td>...</td>\n",
       "      <td>2.0</td>\n",
       "      <td>2.0</td>\n",
       "      <td>1.0</td>\n",
       "      <td>6.0</td>\n",
       "      <td>9.0</td>\n",
       "      <td>3.0</td>\n",
       "      <td>3</td>\n",
       "      <td>0</td>\n",
       "      <td>1</td>\n",
       "      <td>3</td>\n",
       "    </tr>\n",
       "  </tbody>\n",
       "</table>\n",
       "<p>5 rows × 358 columns</p>\n",
       "</div>"
      ],
      "text/plain": [
       "    LNR  AGER_TYP  AKT_DAT_KL  ALTER_HH  ALTERSKATEGORIE_FEIN  \\\n",
       "0  1763       2.0         1.0       8.0                   8.0   \n",
       "1  1771       1.0         4.0      13.0                  13.0   \n",
       "2  1776       1.0         1.0       9.0                   7.0   \n",
       "3  1460       2.0         1.0       6.0                   6.0   \n",
       "4  1783       2.0         1.0       9.0                   9.0   \n",
       "\n",
       "   ANZ_HAUSHALTE_AKTIV  ANZ_KINDER  ANZ_PERSONEN  ANZ_STATISTISCHE_HAUSHALTE  \\\n",
       "0                  NaN         0.0           1.0                        13.0   \n",
       "1                  1.0         0.0           2.0                         1.0   \n",
       "2                  NaN         0.0           NaN                         1.0   \n",
       "3                  4.0         0.0           2.0                         4.0   \n",
       "4                  NaN         0.0           1.0                        44.0   \n",
       "\n",
       "   ARBEIT  ...  VK_DHT4A VK_DISTANZ  VK_ZG11  W_KEIT_KIND_HH  WOHNDAUER_2008  \\\n",
       "0     3.0  ...       5.0        2.0      1.0             6.0             9.0   \n",
       "1     2.0  ...       1.0        2.0      1.0             4.0             9.0   \n",
       "2     4.0  ...       6.0        4.0      2.0             NaN             9.0   \n",
       "3     4.0  ...       8.0       11.0     11.0             6.0             9.0   \n",
       "4     3.0  ...       2.0        2.0      1.0             6.0             9.0   \n",
       "\n",
       "   WOHNLAGE  ZABEOTYP  RESPONSE  ANREDE_KZ  ALTERSKATEGORIE_GROB  \n",
       "0       3.0         3         0          2                     4  \n",
       "1       7.0         1         0          2                     3  \n",
       "2       2.0         3         0          1                     4  \n",
       "3       1.0         3         0          2                     4  \n",
       "4       3.0         3         0          1                     3  \n",
       "\n",
       "[5 rows x 358 columns]"
      ]
     },
     "execution_count": 7,
     "metadata": {},
     "output_type": "execute_result"
    }
   ],
   "source": [
    "mailout_train_clean.head()"
   ]
  },
  {
   "cell_type": "code",
   "execution_count": 8,
   "metadata": {},
   "outputs": [
    {
     "data": {
      "text/plain": [
       "(33837, 358)"
      ]
     },
     "execution_count": 8,
     "metadata": {},
     "output_type": "execute_result"
    }
   ],
   "source": [
    "mailout_train_clean.shape"
   ]
  },
  {
   "cell_type": "code",
   "execution_count": 9,
   "metadata": {},
   "outputs": [
    {
     "data": {
      "text/plain": [
       "float64    266\n",
       "int64       88\n",
       "object       4\n",
       "dtype: int64"
      ]
     },
     "execution_count": 9,
     "metadata": {},
     "output_type": "execute_result"
    }
   ],
   "source": [
    "mailout_train_clean.dtypes.value_counts()"
   ]
  },
  {
   "cell_type": "code",
   "execution_count": 10,
   "metadata": {},
   "outputs": [
    {
     "data": {
      "text/plain": [
       "0    33421\n",
       "1      416\n",
       "Name: RESPONSE, dtype: int64"
      ]
     },
     "execution_count": 10,
     "metadata": {},
     "output_type": "execute_result"
    }
   ],
   "source": [
    "mailout_train_clean.RESPONSE.value_counts()"
   ]
  },
  {
   "cell_type": "code",
   "execution_count": 11,
   "metadata": {},
   "outputs": [],
   "source": [
    "X = mailout_train_clean.drop(['RESPONSE'], axis=1)\n",
    "y = mailout_train_clean['RESPONSE']"
   ]
  },
  {
   "cell_type": "markdown",
   "metadata": {},
   "source": [
    "#### Feature Engineering\n",
    "Similarly to unsupervised learning, I will use a feature engineering function to deal with categorical columns and missing values, then scale the data."
   ]
  },
  {
   "cell_type": "code",
   "execution_count": 12,
   "metadata": {},
   "outputs": [],
   "source": [
    "labels = mailout_train_clean[['LNR', 'RESPONSE']]"
   ]
  },
  {
   "cell_type": "code",
   "execution_count": 13,
   "metadata": {},
   "outputs": [],
   "source": [
    "# create function for feature engineering process\n",
    "def feature_eng_mailout(mailout_clean):\n",
    "    '''\n",
    "    Feature engineering for clean mailout dataset\n",
    "    \n",
    "    INPUT:\n",
    "         mailout_clean: mailout DataFrame from ETL part\n",
    "    \n",
    "    OUTPUT:\n",
    "         mailout: mailout DataFrame for supervised learning models\n",
    "    '''\n",
    "    \n",
    "    print('.......... Deal With Categorical Columns ..........')\n",
    "    # drop some categorical columns\n",
    "    drop_cat_col = ['CAMEO_DEU_2015', 'D19_LETZTER_KAUF_BRANCHE', 'EINGEFUEGT_AM']\n",
    "    mailout = mailout_clean.drop(drop_cat_col, axis=1)\n",
    "\n",
    "    # create dummy variables for the remaining categorical columns\n",
    "    mailout = pd.concat([mailout.drop(['OST_WEST_KZ'], axis=1), pd.get_dummies(mailout['OST_WEST_KZ'])], axis=1)\n",
    "    \n",
    "    print('.......... Impute Missing Variables ..........')\n",
    "    # inpute missing variables with the most frequent value\n",
    "    imputer = SimpleImputer(strategy='most_frequent')\n",
    "\n",
    "    mailout = pd.DataFrame(imputer.fit_transform(mailout), columns = mailout.columns)\n",
    "    \n",
    "    print('.......... Scale Data ..........')\n",
    "    # perfrom feature scalling\n",
    "    # scale data\n",
    "    scaler = StandardScaler()\n",
    "\n",
    "    scaler.fit(mailout)\n",
    "\n",
    "    mailout = pd.DataFrame(scaler.transform(mailout), columns = mailout.columns)\n",
    "\n",
    "    print('.......... Complete ..........')\n",
    "    return mailout"
   ]
  },
  {
   "cell_type": "code",
   "execution_count": 14,
   "metadata": {},
   "outputs": [
    {
     "name": "stdout",
     "output_type": "stream",
     "text": [
      ".......... Deal With Categorical Columns ..........\n",
      ".......... Impute Missing Variables ..........\n",
      ".......... Scale Data ..........\n",
      ".......... Complete ..........\n"
     ]
    }
   ],
   "source": [
    "X = feature_eng_mailout(X)"
   ]
  },
  {
   "cell_type": "code",
   "execution_count": 15,
   "metadata": {},
   "outputs": [
    {
     "name": "stdout",
     "output_type": "stream",
     "text": [
      "(33837, 355) (33837,)\n"
     ]
    }
   ],
   "source": [
    "print(X.shape, y.shape)"
   ]
  },
  {
   "cell_type": "markdown",
   "metadata": {},
   "source": [
    "### Logistic Regression\n",
    "My first approach is to use a logistic regression model to work on the prediction and compute the `Area Under the Receiver Operating Characteristic Curve (ROC AUC)` from the prediction scores."
   ]
  },
  {
   "cell_type": "code",
   "execution_count": 16,
   "metadata": {},
   "outputs": [],
   "source": [
    "X_train, X_test, y_train, y_test = train_test_split(X, y, stratify=y, test_size=0.2, random_state=10)"
   ]
  },
  {
   "cell_type": "code",
   "execution_count": 21,
   "metadata": {},
   "outputs": [
    {
     "name": "stderr",
     "output_type": "stream",
     "text": [
      "/Users/nanliwang/opt/anaconda3/lib/python3.9/site-packages/sklearn/linear_model/_logistic.py:763: ConvergenceWarning: lbfgs failed to converge (status=1):\n",
      "STOP: TOTAL NO. of ITERATIONS REACHED LIMIT.\n",
      "\n",
      "Increase the number of iterations (max_iter) or scale the data as shown in:\n",
      "    https://scikit-learn.org/stable/modules/preprocessing.html\n",
      "Please also refer to the documentation for alternative solver options:\n",
      "    https://scikit-learn.org/stable/modules/linear_model.html#logistic-regression\n",
      "  n_iter_i = _check_optimize_result(\n"
     ]
    }
   ],
   "source": [
    "clf_lr = LogisticRegression(random_state=10).fit(X_train, y_train)"
   ]
  },
  {
   "cell_type": "code",
   "execution_count": 22,
   "metadata": {},
   "outputs": [],
   "source": [
    "y_pred = clf_lr.predict(X_test)\n"
   ]
  },
  {
   "cell_type": "code",
   "execution_count": 23,
   "metadata": {},
   "outputs": [
    {
     "data": {
      "text/plain": [
       "0.9877364066193853"
      ]
     },
     "execution_count": 23,
     "metadata": {},
     "output_type": "execute_result"
    }
   ],
   "source": [
    "# accuracy score\n",
    "#clf_lr.score(X_test, y_test)\n",
    "accuracy_score(y_test, y_pred)"
   ]
  },
  {
   "cell_type": "code",
   "execution_count": 24,
   "metadata": {},
   "outputs": [
    {
     "data": {
      "text/plain": [
       "(6685, 0, 83, 0)"
      ]
     },
     "execution_count": 24,
     "metadata": {},
     "output_type": "execute_result"
    }
   ],
   "source": [
    "# confusion matrix\n",
    "tn, fp, fn, tp = confusion_matrix(y_test, y_pred).ravel()\n",
    "(tn, fp, fn, tp)"
   ]
  },
  {
   "cell_type": "code",
   "execution_count": 25,
   "metadata": {},
   "outputs": [
    {
     "data": {
      "text/plain": [
       "0.6914148741563111"
      ]
     },
     "execution_count": 25,
     "metadata": {},
     "output_type": "execute_result"
    }
   ],
   "source": [
    "# roc_auc_score\n",
    "pred_prob = clf_lr.predict_proba(X_test)[:,1]\n",
    "roc_auc_score(y_test, pred_prob)"
   ]
  },
  {
   "cell_type": "code",
   "execution_count": 27,
   "metadata": {},
   "outputs": [
    {
     "name": "stderr",
     "output_type": "stream",
     "text": [
      "/Users/nanliwang/opt/anaconda3/lib/python3.9/site-packages/sklearn/linear_model/_logistic.py:763: ConvergenceWarning: lbfgs failed to converge (status=1):\n",
      "STOP: TOTAL NO. of ITERATIONS REACHED LIMIT.\n",
      "\n",
      "Increase the number of iterations (max_iter) or scale the data as shown in:\n",
      "    https://scikit-learn.org/stable/modules/preprocessing.html\n",
      "Please also refer to the documentation for alternative solver options:\n",
      "    https://scikit-learn.org/stable/modules/linear_model.html#logistic-regression\n",
      "  n_iter_i = _check_optimize_result(\n",
      "/Users/nanliwang/opt/anaconda3/lib/python3.9/site-packages/sklearn/linear_model/_logistic.py:763: ConvergenceWarning: lbfgs failed to converge (status=1):\n",
      "STOP: TOTAL NO. of ITERATIONS REACHED LIMIT.\n",
      "\n",
      "Increase the number of iterations (max_iter) or scale the data as shown in:\n",
      "    https://scikit-learn.org/stable/modules/preprocessing.html\n",
      "Please also refer to the documentation for alternative solver options:\n",
      "    https://scikit-learn.org/stable/modules/linear_model.html#logistic-regression\n",
      "  n_iter_i = _check_optimize_result(\n",
      "/Users/nanliwang/opt/anaconda3/lib/python3.9/site-packages/sklearn/linear_model/_logistic.py:763: ConvergenceWarning: lbfgs failed to converge (status=1):\n",
      "STOP: TOTAL NO. of ITERATIONS REACHED LIMIT.\n",
      "\n",
      "Increase the number of iterations (max_iter) or scale the data as shown in:\n",
      "    https://scikit-learn.org/stable/modules/preprocessing.html\n",
      "Please also refer to the documentation for alternative solver options:\n",
      "    https://scikit-learn.org/stable/modules/linear_model.html#logistic-regression\n",
      "  n_iter_i = _check_optimize_result(\n",
      "/Users/nanliwang/opt/anaconda3/lib/python3.9/site-packages/sklearn/linear_model/_logistic.py:763: ConvergenceWarning: lbfgs failed to converge (status=1):\n",
      "STOP: TOTAL NO. of ITERATIONS REACHED LIMIT.\n",
      "\n",
      "Increase the number of iterations (max_iter) or scale the data as shown in:\n",
      "    https://scikit-learn.org/stable/modules/preprocessing.html\n",
      "Please also refer to the documentation for alternative solver options:\n",
      "    https://scikit-learn.org/stable/modules/linear_model.html#logistic-regression\n",
      "  n_iter_i = _check_optimize_result(\n",
      "/Users/nanliwang/opt/anaconda3/lib/python3.9/site-packages/sklearn/linear_model/_logistic.py:763: ConvergenceWarning: lbfgs failed to converge (status=1):\n",
      "STOP: TOTAL NO. of ITERATIONS REACHED LIMIT.\n",
      "\n",
      "Increase the number of iterations (max_iter) or scale the data as shown in:\n",
      "    https://scikit-learn.org/stable/modules/preprocessing.html\n",
      "Please also refer to the documentation for alternative solver options:\n",
      "    https://scikit-learn.org/stable/modules/linear_model.html#logistic-regression\n",
      "  n_iter_i = _check_optimize_result(\n",
      "/Users/nanliwang/opt/anaconda3/lib/python3.9/site-packages/sklearn/linear_model/_logistic.py:763: ConvergenceWarning: lbfgs failed to converge (status=1):\n",
      "STOP: TOTAL NO. of ITERATIONS REACHED LIMIT.\n",
      "\n",
      "Increase the number of iterations (max_iter) or scale the data as shown in:\n",
      "    https://scikit-learn.org/stable/modules/preprocessing.html\n",
      "Please also refer to the documentation for alternative solver options:\n",
      "    https://scikit-learn.org/stable/modules/linear_model.html#logistic-regression\n",
      "  n_iter_i = _check_optimize_result(\n",
      "/Users/nanliwang/opt/anaconda3/lib/python3.9/site-packages/sklearn/linear_model/_logistic.py:763: ConvergenceWarning: lbfgs failed to converge (status=1):\n",
      "STOP: TOTAL NO. of ITERATIONS REACHED LIMIT.\n",
      "\n",
      "Increase the number of iterations (max_iter) or scale the data as shown in:\n",
      "    https://scikit-learn.org/stable/modules/preprocessing.html\n",
      "Please also refer to the documentation for alternative solver options:\n",
      "    https://scikit-learn.org/stable/modules/linear_model.html#logistic-regression\n",
      "  n_iter_i = _check_optimize_result(\n",
      "/Users/nanliwang/opt/anaconda3/lib/python3.9/site-packages/sklearn/linear_model/_logistic.py:763: ConvergenceWarning: lbfgs failed to converge (status=1):\n",
      "STOP: TOTAL NO. of ITERATIONS REACHED LIMIT.\n",
      "\n",
      "Increase the number of iterations (max_iter) or scale the data as shown in:\n",
      "    https://scikit-learn.org/stable/modules/preprocessing.html\n",
      "Please also refer to the documentation for alternative solver options:\n",
      "    https://scikit-learn.org/stable/modules/linear_model.html#logistic-regression\n",
      "  n_iter_i = _check_optimize_result(\n",
      "/Users/nanliwang/opt/anaconda3/lib/python3.9/site-packages/sklearn/linear_model/_logistic.py:763: ConvergenceWarning: lbfgs failed to converge (status=1):\n",
      "STOP: TOTAL NO. of ITERATIONS REACHED LIMIT.\n",
      "\n",
      "Increase the number of iterations (max_iter) or scale the data as shown in:\n",
      "    https://scikit-learn.org/stable/modules/preprocessing.html\n",
      "Please also refer to the documentation for alternative solver options:\n",
      "    https://scikit-learn.org/stable/modules/linear_model.html#logistic-regression\n",
      "  n_iter_i = _check_optimize_result(\n",
      "/Users/nanliwang/opt/anaconda3/lib/python3.9/site-packages/sklearn/linear_model/_logistic.py:763: ConvergenceWarning: lbfgs failed to converge (status=1):\n",
      "STOP: TOTAL NO. of ITERATIONS REACHED LIMIT.\n",
      "\n",
      "Increase the number of iterations (max_iter) or scale the data as shown in:\n",
      "    https://scikit-learn.org/stable/modules/preprocessing.html\n",
      "Please also refer to the documentation for alternative solver options:\n",
      "    https://scikit-learn.org/stable/modules/linear_model.html#logistic-regression\n",
      "  n_iter_i = _check_optimize_result(\n",
      "/Users/nanliwang/opt/anaconda3/lib/python3.9/site-packages/sklearn/linear_model/_logistic.py:763: ConvergenceWarning: lbfgs failed to converge (status=1):\n",
      "STOP: TOTAL NO. of ITERATIONS REACHED LIMIT.\n",
      "\n",
      "Increase the number of iterations (max_iter) or scale the data as shown in:\n",
      "    https://scikit-learn.org/stable/modules/preprocessing.html\n",
      "Please also refer to the documentation for alternative solver options:\n",
      "    https://scikit-learn.org/stable/modules/linear_model.html#logistic-regression\n",
      "  n_iter_i = _check_optimize_result(\n",
      "/Users/nanliwang/opt/anaconda3/lib/python3.9/site-packages/sklearn/linear_model/_logistic.py:763: ConvergenceWarning: lbfgs failed to converge (status=1):\n",
      "STOP: TOTAL NO. of ITERATIONS REACHED LIMIT.\n",
      "\n",
      "Increase the number of iterations (max_iter) or scale the data as shown in:\n",
      "    https://scikit-learn.org/stable/modules/preprocessing.html\n",
      "Please also refer to the documentation for alternative solver options:\n",
      "    https://scikit-learn.org/stable/modules/linear_model.html#logistic-regression\n",
      "  n_iter_i = _check_optimize_result(\n",
      "/Users/nanliwang/opt/anaconda3/lib/python3.9/site-packages/sklearn/linear_model/_logistic.py:763: ConvergenceWarning: lbfgs failed to converge (status=1):\n",
      "STOP: TOTAL NO. of ITERATIONS REACHED LIMIT.\n",
      "\n",
      "Increase the number of iterations (max_iter) or scale the data as shown in:\n",
      "    https://scikit-learn.org/stable/modules/preprocessing.html\n",
      "Please also refer to the documentation for alternative solver options:\n",
      "    https://scikit-learn.org/stable/modules/linear_model.html#logistic-regression\n",
      "  n_iter_i = _check_optimize_result(\n",
      "/Users/nanliwang/opt/anaconda3/lib/python3.9/site-packages/sklearn/linear_model/_logistic.py:763: ConvergenceWarning: lbfgs failed to converge (status=1):\n",
      "STOP: TOTAL NO. of ITERATIONS REACHED LIMIT.\n",
      "\n",
      "Increase the number of iterations (max_iter) or scale the data as shown in:\n",
      "    https://scikit-learn.org/stable/modules/preprocessing.html\n",
      "Please also refer to the documentation for alternative solver options:\n",
      "    https://scikit-learn.org/stable/modules/linear_model.html#logistic-regression\n",
      "  n_iter_i = _check_optimize_result(\n",
      "/Users/nanliwang/opt/anaconda3/lib/python3.9/site-packages/sklearn/linear_model/_logistic.py:763: ConvergenceWarning: lbfgs failed to converge (status=1):\n",
      "STOP: TOTAL NO. of ITERATIONS REACHED LIMIT.\n",
      "\n",
      "Increase the number of iterations (max_iter) or scale the data as shown in:\n",
      "    https://scikit-learn.org/stable/modules/preprocessing.html\n",
      "Please also refer to the documentation for alternative solver options:\n",
      "    https://scikit-learn.org/stable/modules/linear_model.html#logistic-regression\n",
      "  n_iter_i = _check_optimize_result(\n",
      "/Users/nanliwang/opt/anaconda3/lib/python3.9/site-packages/sklearn/linear_model/_logistic.py:763: ConvergenceWarning: lbfgs failed to converge (status=1):\n",
      "STOP: TOTAL NO. of ITERATIONS REACHED LIMIT.\n",
      "\n",
      "Increase the number of iterations (max_iter) or scale the data as shown in:\n",
      "    https://scikit-learn.org/stable/modules/preprocessing.html\n",
      "Please also refer to the documentation for alternative solver options:\n",
      "    https://scikit-learn.org/stable/modules/linear_model.html#logistic-regression\n",
      "  n_iter_i = _check_optimize_result(\n",
      "/Users/nanliwang/opt/anaconda3/lib/python3.9/site-packages/sklearn/linear_model/_logistic.py:763: ConvergenceWarning: lbfgs failed to converge (status=1):\n",
      "STOP: TOTAL NO. of ITERATIONS REACHED LIMIT.\n",
      "\n",
      "Increase the number of iterations (max_iter) or scale the data as shown in:\n",
      "    https://scikit-learn.org/stable/modules/preprocessing.html\n",
      "Please also refer to the documentation for alternative solver options:\n",
      "    https://scikit-learn.org/stable/modules/linear_model.html#logistic-regression\n",
      "  n_iter_i = _check_optimize_result(\n",
      "/Users/nanliwang/opt/anaconda3/lib/python3.9/site-packages/sklearn/linear_model/_logistic.py:763: ConvergenceWarning: lbfgs failed to converge (status=1):\n",
      "STOP: TOTAL NO. of ITERATIONS REACHED LIMIT.\n",
      "\n",
      "Increase the number of iterations (max_iter) or scale the data as shown in:\n",
      "    https://scikit-learn.org/stable/modules/preprocessing.html\n",
      "Please also refer to the documentation for alternative solver options:\n",
      "    https://scikit-learn.org/stable/modules/linear_model.html#logistic-regression\n",
      "  n_iter_i = _check_optimize_result(\n",
      "/Users/nanliwang/opt/anaconda3/lib/python3.9/site-packages/sklearn/linear_model/_logistic.py:763: ConvergenceWarning: lbfgs failed to converge (status=1):\n",
      "STOP: TOTAL NO. of ITERATIONS REACHED LIMIT.\n",
      "\n",
      "Increase the number of iterations (max_iter) or scale the data as shown in:\n",
      "    https://scikit-learn.org/stable/modules/preprocessing.html\n",
      "Please also refer to the documentation for alternative solver options:\n",
      "    https://scikit-learn.org/stable/modules/linear_model.html#logistic-regression\n",
      "  n_iter_i = _check_optimize_result(\n",
      "/Users/nanliwang/opt/anaconda3/lib/python3.9/site-packages/sklearn/linear_model/_logistic.py:763: ConvergenceWarning: lbfgs failed to converge (status=1):\n",
      "STOP: TOTAL NO. of ITERATIONS REACHED LIMIT.\n",
      "\n",
      "Increase the number of iterations (max_iter) or scale the data as shown in:\n",
      "    https://scikit-learn.org/stable/modules/preprocessing.html\n",
      "Please also refer to the documentation for alternative solver options:\n",
      "    https://scikit-learn.org/stable/modules/linear_model.html#logistic-regression\n",
      "  n_iter_i = _check_optimize_result(\n",
      "/Users/nanliwang/opt/anaconda3/lib/python3.9/site-packages/sklearn/linear_model/_logistic.py:763: ConvergenceWarning: lbfgs failed to converge (status=1):\n",
      "STOP: TOTAL NO. of ITERATIONS REACHED LIMIT.\n",
      "\n",
      "Increase the number of iterations (max_iter) or scale the data as shown in:\n",
      "    https://scikit-learn.org/stable/modules/preprocessing.html\n",
      "Please also refer to the documentation for alternative solver options:\n",
      "    https://scikit-learn.org/stable/modules/linear_model.html#logistic-regression\n",
      "  n_iter_i = _check_optimize_result(\n",
      "/Users/nanliwang/opt/anaconda3/lib/python3.9/site-packages/sklearn/linear_model/_logistic.py:763: ConvergenceWarning: lbfgs failed to converge (status=1):\n",
      "STOP: TOTAL NO. of ITERATIONS REACHED LIMIT.\n",
      "\n",
      "Increase the number of iterations (max_iter) or scale the data as shown in:\n",
      "    https://scikit-learn.org/stable/modules/preprocessing.html\n",
      "Please also refer to the documentation for alternative solver options:\n",
      "    https://scikit-learn.org/stable/modules/linear_model.html#logistic-regression\n",
      "  n_iter_i = _check_optimize_result(\n",
      "/Users/nanliwang/opt/anaconda3/lib/python3.9/site-packages/sklearn/linear_model/_logistic.py:763: ConvergenceWarning: lbfgs failed to converge (status=1):\n",
      "STOP: TOTAL NO. of ITERATIONS REACHED LIMIT.\n",
      "\n",
      "Increase the number of iterations (max_iter) or scale the data as shown in:\n",
      "    https://scikit-learn.org/stable/modules/preprocessing.html\n",
      "Please also refer to the documentation for alternative solver options:\n",
      "    https://scikit-learn.org/stable/modules/linear_model.html#logistic-regression\n",
      "  n_iter_i = _check_optimize_result(\n",
      "/Users/nanliwang/opt/anaconda3/lib/python3.9/site-packages/sklearn/linear_model/_logistic.py:763: ConvergenceWarning: lbfgs failed to converge (status=1):\n",
      "STOP: TOTAL NO. of ITERATIONS REACHED LIMIT.\n",
      "\n",
      "Increase the number of iterations (max_iter) or scale the data as shown in:\n",
      "    https://scikit-learn.org/stable/modules/preprocessing.html\n",
      "Please also refer to the documentation for alternative solver options:\n",
      "    https://scikit-learn.org/stable/modules/linear_model.html#logistic-regression\n",
      "  n_iter_i = _check_optimize_result(\n",
      "/Users/nanliwang/opt/anaconda3/lib/python3.9/site-packages/sklearn/linear_model/_logistic.py:763: ConvergenceWarning: lbfgs failed to converge (status=1):\n",
      "STOP: TOTAL NO. of ITERATIONS REACHED LIMIT.\n",
      "\n",
      "Increase the number of iterations (max_iter) or scale the data as shown in:\n",
      "    https://scikit-learn.org/stable/modules/preprocessing.html\n",
      "Please also refer to the documentation for alternative solver options:\n",
      "    https://scikit-learn.org/stable/modules/linear_model.html#logistic-regression\n",
      "  n_iter_i = _check_optimize_result(\n"
     ]
    }
   ],
   "source": [
    "# learning curve for different training and test sets combinations\n",
    "train_sizes, train_scores, test_scores = learning_curve(\n",
    "        LogisticRegression(random_state=10), X, y, scoring = 'roc_auc', train_sizes=np.linspace(.2, 1.0, 5))\n"
   ]
  },
  {
   "cell_type": "code",
   "execution_count": 28,
   "metadata": {},
   "outputs": [
    {
     "name": "stdout",
     "output_type": "stream",
     "text": [
      "5413 samples were used to train the model\n",
      "The average train accuracy is 0.98\n",
      "The average test accuracy is 0.59\n",
      "10827 samples were used to train the model\n",
      "The average train accuracy is 0.91\n",
      "The average test accuracy is 0.62\n",
      "16241 samples were used to train the model\n",
      "The average train accuracy is 0.88\n",
      "The average test accuracy is 0.66\n",
      "21655 samples were used to train the model\n",
      "The average train accuracy is 0.87\n",
      "The average test accuracy is 0.68\n",
      "27069 samples were used to train the model\n",
      "The average train accuracy is 0.85\n",
      "The average test accuracy is 0.68\n"
     ]
    }
   ],
   "source": [
    "for train_size, cv_train_scores, cv_test_scores in zip(\n",
    "    train_sizes, train_scores, test_scores\n",
    "):\n",
    "    print(f\"{train_size} samples were used to train the model\")\n",
    "    print(f\"The average train accuracy is {cv_train_scores.mean():.2f}\")\n",
    "    print(f\"The average test accuracy is {cv_test_scores.mean():.2f}\")"
   ]
  },
  {
   "cell_type": "code",
   "execution_count": 29,
   "metadata": {},
   "outputs": [
    {
     "name": "stderr",
     "output_type": "stream",
     "text": [
      "/Users/nanliwang/opt/anaconda3/lib/python3.9/site-packages/sklearn/linear_model/_logistic.py:763: ConvergenceWarning: lbfgs failed to converge (status=1):\n",
      "STOP: TOTAL NO. of ITERATIONS REACHED LIMIT.\n",
      "\n",
      "Increase the number of iterations (max_iter) or scale the data as shown in:\n",
      "    https://scikit-learn.org/stable/modules/preprocessing.html\n",
      "Please also refer to the documentation for alternative solver options:\n",
      "    https://scikit-learn.org/stable/modules/linear_model.html#logistic-regression\n",
      "  n_iter_i = _check_optimize_result(\n",
      "/Users/nanliwang/opt/anaconda3/lib/python3.9/site-packages/sklearn/linear_model/_logistic.py:763: ConvergenceWarning: lbfgs failed to converge (status=1):\n",
      "STOP: TOTAL NO. of ITERATIONS REACHED LIMIT.\n",
      "\n",
      "Increase the number of iterations (max_iter) or scale the data as shown in:\n",
      "    https://scikit-learn.org/stable/modules/preprocessing.html\n",
      "Please also refer to the documentation for alternative solver options:\n",
      "    https://scikit-learn.org/stable/modules/linear_model.html#logistic-regression\n",
      "  n_iter_i = _check_optimize_result(\n",
      "/Users/nanliwang/opt/anaconda3/lib/python3.9/site-packages/sklearn/linear_model/_logistic.py:763: ConvergenceWarning: lbfgs failed to converge (status=1):\n",
      "STOP: TOTAL NO. of ITERATIONS REACHED LIMIT.\n",
      "\n",
      "Increase the number of iterations (max_iter) or scale the data as shown in:\n",
      "    https://scikit-learn.org/stable/modules/preprocessing.html\n",
      "Please also refer to the documentation for alternative solver options:\n",
      "    https://scikit-learn.org/stable/modules/linear_model.html#logistic-regression\n",
      "  n_iter_i = _check_optimize_result(\n",
      "/Users/nanliwang/opt/anaconda3/lib/python3.9/site-packages/sklearn/linear_model/_logistic.py:763: ConvergenceWarning: lbfgs failed to converge (status=1):\n",
      "STOP: TOTAL NO. of ITERATIONS REACHED LIMIT.\n",
      "\n",
      "Increase the number of iterations (max_iter) or scale the data as shown in:\n",
      "    https://scikit-learn.org/stable/modules/preprocessing.html\n",
      "Please also refer to the documentation for alternative solver options:\n",
      "    https://scikit-learn.org/stable/modules/linear_model.html#logistic-regression\n",
      "  n_iter_i = _check_optimize_result(\n",
      "/Users/nanliwang/opt/anaconda3/lib/python3.9/site-packages/sklearn/linear_model/_logistic.py:763: ConvergenceWarning: lbfgs failed to converge (status=1):\n",
      "STOP: TOTAL NO. of ITERATIONS REACHED LIMIT.\n",
      "\n",
      "Increase the number of iterations (max_iter) or scale the data as shown in:\n",
      "    https://scikit-learn.org/stable/modules/preprocessing.html\n",
      "Please also refer to the documentation for alternative solver options:\n",
      "    https://scikit-learn.org/stable/modules/linear_model.html#logistic-regression\n",
      "  n_iter_i = _check_optimize_result(\n"
     ]
    }
   ],
   "source": [
    "# cross cvalidation score\n",
    "cv_scores = cross_val_score(LogisticRegression(random_state=10), X, y, cv=5, scoring='roc_auc')"
   ]
  },
  {
   "cell_type": "code",
   "execution_count": 30,
   "metadata": {},
   "outputs": [
    {
     "data": {
      "text/plain": [
       "array([0.66610015, 0.65236279, 0.69973611, 0.70347819, 0.6833528 ])"
      ]
     },
     "execution_count": 30,
     "metadata": {},
     "output_type": "execute_result"
    }
   ],
   "source": [
    "cv_scores"
   ]
  },
  {
   "cell_type": "markdown",
   "metadata": {},
   "source": [
    "### Other Classification Models\n",
    "In this part, I will try different models, and calculate their auc_roc_scores for comparison."
   ]
  },
  {
   "cell_type": "code",
   "execution_count": 31,
   "metadata": {},
   "outputs": [
    {
     "data": {
      "text/html": [
       "<div>\n",
       "<style scoped>\n",
       "    .dataframe tbody tr th:only-of-type {\n",
       "        vertical-align: middle;\n",
       "    }\n",
       "\n",
       "    .dataframe tbody tr th {\n",
       "        vertical-align: top;\n",
       "    }\n",
       "\n",
       "    .dataframe thead th {\n",
       "        text-align: right;\n",
       "    }\n",
       "</style>\n",
       "<table border=\"1\" class=\"dataframe\">\n",
       "  <thead>\n",
       "    <tr style=\"text-align: right;\">\n",
       "      <th></th>\n",
       "      <th>LNR</th>\n",
       "      <th>AGER_TYP</th>\n",
       "      <th>AKT_DAT_KL</th>\n",
       "      <th>ALTER_HH</th>\n",
       "      <th>ALTERSKATEGORIE_FEIN</th>\n",
       "      <th>ANZ_HAUSHALTE_AKTIV</th>\n",
       "      <th>ANZ_KINDER</th>\n",
       "      <th>ANZ_PERSONEN</th>\n",
       "      <th>ANZ_STATISTISCHE_HAUSHALTE</th>\n",
       "      <th>ARBEIT</th>\n",
       "      <th>...</th>\n",
       "      <th>VK_DISTANZ</th>\n",
       "      <th>VK_ZG11</th>\n",
       "      <th>W_KEIT_KIND_HH</th>\n",
       "      <th>WOHNDAUER_2008</th>\n",
       "      <th>WOHNLAGE</th>\n",
       "      <th>ZABEOTYP</th>\n",
       "      <th>ANREDE_KZ</th>\n",
       "      <th>ALTERSKATEGORIE_GROB</th>\n",
       "      <th>O</th>\n",
       "      <th>W</th>\n",
       "    </tr>\n",
       "  </thead>\n",
       "  <tbody>\n",
       "    <tr>\n",
       "      <th>0</th>\n",
       "      <td>-1.651014</td>\n",
       "      <td>0.417025</td>\n",
       "      <td>-0.291086</td>\n",
       "      <td>-0.942968</td>\n",
       "      <td>-0.420497</td>\n",
       "      <td>-0.628015</td>\n",
       "      <td>-0.221416</td>\n",
       "      <td>-0.823952</td>\n",
       "      <td>0.499397</td>\n",
       "      <td>-0.045367</td>\n",
       "      <td>...</td>\n",
       "      <td>-0.747344</td>\n",
       "      <td>-0.824640</td>\n",
       "      <td>0.736728</td>\n",
       "      <td>0.245776</td>\n",
       "      <td>-0.522548</td>\n",
       "      <td>0.208541</td>\n",
       "      <td>0.855641</td>\n",
       "      <td>0.584506</td>\n",
       "      <td>-0.557221</td>\n",
       "      <td>0.557221</td>\n",
       "    </tr>\n",
       "    <tr>\n",
       "      <th>1</th>\n",
       "      <td>-1.650693</td>\n",
       "      <td>-1.220349</td>\n",
       "      <td>1.488724</td>\n",
       "      <td>0.281576</td>\n",
       "      <td>0.739960</td>\n",
       "      <td>-0.628015</td>\n",
       "      <td>-0.221416</td>\n",
       "      <td>0.532742</td>\n",
       "      <td>-0.365228</td>\n",
       "      <td>-1.012052</td>\n",
       "      <td>...</td>\n",
       "      <td>-0.747344</td>\n",
       "      <td>-0.824640</td>\n",
       "      <td>-0.411397</td>\n",
       "      <td>0.245776</td>\n",
       "      <td>1.449454</td>\n",
       "      <td>-1.426210</td>\n",
       "      <td>0.855641</td>\n",
       "      <td>-0.647380</td>\n",
       "      <td>-0.557221</td>\n",
       "      <td>0.557221</td>\n",
       "    </tr>\n",
       "    <tr>\n",
       "      <th>2</th>\n",
       "      <td>-1.650493</td>\n",
       "      <td>-1.220349</td>\n",
       "      <td>-0.291086</td>\n",
       "      <td>-0.698059</td>\n",
       "      <td>-0.652589</td>\n",
       "      <td>-0.628015</td>\n",
       "      <td>-0.221416</td>\n",
       "      <td>-0.823952</td>\n",
       "      <td>-0.365228</td>\n",
       "      <td>0.921317</td>\n",
       "      <td>...</td>\n",
       "      <td>-0.137255</td>\n",
       "      <td>-0.426482</td>\n",
       "      <td>0.736728</td>\n",
       "      <td>0.245776</td>\n",
       "      <td>-1.015549</td>\n",
       "      <td>0.208541</td>\n",
       "      <td>-1.168714</td>\n",
       "      <td>0.584506</td>\n",
       "      <td>1.794619</td>\n",
       "      <td>-1.794619</td>\n",
       "    </tr>\n",
       "    <tr>\n",
       "      <th>3</th>\n",
       "      <td>-1.663171</td>\n",
       "      <td>0.417025</td>\n",
       "      <td>-0.291086</td>\n",
       "      <td>-1.432785</td>\n",
       "      <td>-0.884681</td>\n",
       "      <td>0.587553</td>\n",
       "      <td>-0.221416</td>\n",
       "      <td>0.532742</td>\n",
       "      <td>-0.149072</td>\n",
       "      <td>0.921317</td>\n",
       "      <td>...</td>\n",
       "      <td>1.998057</td>\n",
       "      <td>3.156947</td>\n",
       "      <td>0.736728</td>\n",
       "      <td>0.245776</td>\n",
       "      <td>-1.508550</td>\n",
       "      <td>0.208541</td>\n",
       "      <td>0.855641</td>\n",
       "      <td>0.584506</td>\n",
       "      <td>-0.557221</td>\n",
       "      <td>0.557221</td>\n",
       "    </tr>\n",
       "    <tr>\n",
       "      <th>4</th>\n",
       "      <td>-1.650212</td>\n",
       "      <td>0.417025</td>\n",
       "      <td>-0.291086</td>\n",
       "      <td>-0.698059</td>\n",
       "      <td>-0.188406</td>\n",
       "      <td>-0.628015</td>\n",
       "      <td>-0.221416</td>\n",
       "      <td>-0.823952</td>\n",
       "      <td>2.733010</td>\n",
       "      <td>-0.045367</td>\n",
       "      <td>...</td>\n",
       "      <td>-0.747344</td>\n",
       "      <td>-0.824640</td>\n",
       "      <td>0.736728</td>\n",
       "      <td>0.245776</td>\n",
       "      <td>-0.522548</td>\n",
       "      <td>0.208541</td>\n",
       "      <td>-1.168714</td>\n",
       "      <td>-0.647380</td>\n",
       "      <td>-0.557221</td>\n",
       "      <td>0.557221</td>\n",
       "    </tr>\n",
       "  </tbody>\n",
       "</table>\n",
       "<p>5 rows × 355 columns</p>\n",
       "</div>"
      ],
      "text/plain": [
       "        LNR  AGER_TYP  AKT_DAT_KL  ALTER_HH  ALTERSKATEGORIE_FEIN  \\\n",
       "0 -1.651014  0.417025   -0.291086 -0.942968             -0.420497   \n",
       "1 -1.650693 -1.220349    1.488724  0.281576              0.739960   \n",
       "2 -1.650493 -1.220349   -0.291086 -0.698059             -0.652589   \n",
       "3 -1.663171  0.417025   -0.291086 -1.432785             -0.884681   \n",
       "4 -1.650212  0.417025   -0.291086 -0.698059             -0.188406   \n",
       "\n",
       "   ANZ_HAUSHALTE_AKTIV  ANZ_KINDER  ANZ_PERSONEN  ANZ_STATISTISCHE_HAUSHALTE  \\\n",
       "0            -0.628015   -0.221416     -0.823952                    0.499397   \n",
       "1            -0.628015   -0.221416      0.532742                   -0.365228   \n",
       "2            -0.628015   -0.221416     -0.823952                   -0.365228   \n",
       "3             0.587553   -0.221416      0.532742                   -0.149072   \n",
       "4            -0.628015   -0.221416     -0.823952                    2.733010   \n",
       "\n",
       "     ARBEIT  ...  VK_DISTANZ   VK_ZG11  W_KEIT_KIND_HH  WOHNDAUER_2008  \\\n",
       "0 -0.045367  ...   -0.747344 -0.824640        0.736728        0.245776   \n",
       "1 -1.012052  ...   -0.747344 -0.824640       -0.411397        0.245776   \n",
       "2  0.921317  ...   -0.137255 -0.426482        0.736728        0.245776   \n",
       "3  0.921317  ...    1.998057  3.156947        0.736728        0.245776   \n",
       "4 -0.045367  ...   -0.747344 -0.824640        0.736728        0.245776   \n",
       "\n",
       "   WOHNLAGE  ZABEOTYP  ANREDE_KZ  ALTERSKATEGORIE_GROB         O         W  \n",
       "0 -0.522548  0.208541   0.855641              0.584506 -0.557221  0.557221  \n",
       "1  1.449454 -1.426210   0.855641             -0.647380 -0.557221  0.557221  \n",
       "2 -1.015549  0.208541  -1.168714              0.584506  1.794619 -1.794619  \n",
       "3 -1.508550  0.208541   0.855641              0.584506 -0.557221  0.557221  \n",
       "4 -0.522548  0.208541  -1.168714             -0.647380 -0.557221  0.557221  \n",
       "\n",
       "[5 rows x 355 columns]"
      ]
     },
     "execution_count": 31,
     "metadata": {},
     "output_type": "execute_result"
    }
   ],
   "source": [
    "X.head()"
   ]
  },
  {
   "cell_type": "code",
   "execution_count": 32,
   "metadata": {},
   "outputs": [
    {
     "data": {
      "text/html": [
       "<div>\n",
       "<style scoped>\n",
       "    .dataframe tbody tr th:only-of-type {\n",
       "        vertical-align: middle;\n",
       "    }\n",
       "\n",
       "    .dataframe tbody tr th {\n",
       "        vertical-align: top;\n",
       "    }\n",
       "\n",
       "    .dataframe thead th {\n",
       "        text-align: right;\n",
       "    }\n",
       "</style>\n",
       "<table border=\"1\" class=\"dataframe\">\n",
       "  <thead>\n",
       "    <tr style=\"text-align: right;\">\n",
       "      <th></th>\n",
       "      <th>LNR</th>\n",
       "      <th>AGER_TYP</th>\n",
       "      <th>AKT_DAT_KL</th>\n",
       "      <th>ALTER_HH</th>\n",
       "      <th>ALTERSKATEGORIE_FEIN</th>\n",
       "      <th>ANZ_HAUSHALTE_AKTIV</th>\n",
       "      <th>ANZ_KINDER</th>\n",
       "      <th>ANZ_PERSONEN</th>\n",
       "      <th>ANZ_STATISTISCHE_HAUSHALTE</th>\n",
       "      <th>ARBEIT</th>\n",
       "      <th>...</th>\n",
       "      <th>VK_DHT4A</th>\n",
       "      <th>VK_DISTANZ</th>\n",
       "      <th>VK_ZG11</th>\n",
       "      <th>W_KEIT_KIND_HH</th>\n",
       "      <th>WOHNDAUER_2008</th>\n",
       "      <th>WOHNLAGE</th>\n",
       "      <th>ZABEOTYP</th>\n",
       "      <th>RESPONSE</th>\n",
       "      <th>ANREDE_KZ</th>\n",
       "      <th>ALTERSKATEGORIE_GROB</th>\n",
       "    </tr>\n",
       "  </thead>\n",
       "  <tbody>\n",
       "    <tr>\n",
       "      <th>0</th>\n",
       "      <td>1763</td>\n",
       "      <td>2.0</td>\n",
       "      <td>1.0</td>\n",
       "      <td>8.0</td>\n",
       "      <td>8.0</td>\n",
       "      <td>NaN</td>\n",
       "      <td>0.0</td>\n",
       "      <td>1.0</td>\n",
       "      <td>13.0</td>\n",
       "      <td>3.0</td>\n",
       "      <td>...</td>\n",
       "      <td>5.0</td>\n",
       "      <td>2.0</td>\n",
       "      <td>1.0</td>\n",
       "      <td>6.0</td>\n",
       "      <td>9.0</td>\n",
       "      <td>3.0</td>\n",
       "      <td>3</td>\n",
       "      <td>0</td>\n",
       "      <td>2</td>\n",
       "      <td>4</td>\n",
       "    </tr>\n",
       "    <tr>\n",
       "      <th>1</th>\n",
       "      <td>1771</td>\n",
       "      <td>1.0</td>\n",
       "      <td>4.0</td>\n",
       "      <td>13.0</td>\n",
       "      <td>13.0</td>\n",
       "      <td>1.0</td>\n",
       "      <td>0.0</td>\n",
       "      <td>2.0</td>\n",
       "      <td>1.0</td>\n",
       "      <td>2.0</td>\n",
       "      <td>...</td>\n",
       "      <td>1.0</td>\n",
       "      <td>2.0</td>\n",
       "      <td>1.0</td>\n",
       "      <td>4.0</td>\n",
       "      <td>9.0</td>\n",
       "      <td>7.0</td>\n",
       "      <td>1</td>\n",
       "      <td>0</td>\n",
       "      <td>2</td>\n",
       "      <td>3</td>\n",
       "    </tr>\n",
       "    <tr>\n",
       "      <th>2</th>\n",
       "      <td>1776</td>\n",
       "      <td>1.0</td>\n",
       "      <td>1.0</td>\n",
       "      <td>9.0</td>\n",
       "      <td>7.0</td>\n",
       "      <td>NaN</td>\n",
       "      <td>0.0</td>\n",
       "      <td>NaN</td>\n",
       "      <td>1.0</td>\n",
       "      <td>4.0</td>\n",
       "      <td>...</td>\n",
       "      <td>6.0</td>\n",
       "      <td>4.0</td>\n",
       "      <td>2.0</td>\n",
       "      <td>NaN</td>\n",
       "      <td>9.0</td>\n",
       "      <td>2.0</td>\n",
       "      <td>3</td>\n",
       "      <td>0</td>\n",
       "      <td>1</td>\n",
       "      <td>4</td>\n",
       "    </tr>\n",
       "    <tr>\n",
       "      <th>3</th>\n",
       "      <td>1460</td>\n",
       "      <td>2.0</td>\n",
       "      <td>1.0</td>\n",
       "      <td>6.0</td>\n",
       "      <td>6.0</td>\n",
       "      <td>4.0</td>\n",
       "      <td>0.0</td>\n",
       "      <td>2.0</td>\n",
       "      <td>4.0</td>\n",
       "      <td>4.0</td>\n",
       "      <td>...</td>\n",
       "      <td>8.0</td>\n",
       "      <td>11.0</td>\n",
       "      <td>11.0</td>\n",
       "      <td>6.0</td>\n",
       "      <td>9.0</td>\n",
       "      <td>1.0</td>\n",
       "      <td>3</td>\n",
       "      <td>0</td>\n",
       "      <td>2</td>\n",
       "      <td>4</td>\n",
       "    </tr>\n",
       "    <tr>\n",
       "      <th>4</th>\n",
       "      <td>1783</td>\n",
       "      <td>2.0</td>\n",
       "      <td>1.0</td>\n",
       "      <td>9.0</td>\n",
       "      <td>9.0</td>\n",
       "      <td>NaN</td>\n",
       "      <td>0.0</td>\n",
       "      <td>1.0</td>\n",
       "      <td>44.0</td>\n",
       "      <td>3.0</td>\n",
       "      <td>...</td>\n",
       "      <td>2.0</td>\n",
       "      <td>2.0</td>\n",
       "      <td>1.0</td>\n",
       "      <td>6.0</td>\n",
       "      <td>9.0</td>\n",
       "      <td>3.0</td>\n",
       "      <td>3</td>\n",
       "      <td>0</td>\n",
       "      <td>1</td>\n",
       "      <td>3</td>\n",
       "    </tr>\n",
       "  </tbody>\n",
       "</table>\n",
       "<p>5 rows × 358 columns</p>\n",
       "</div>"
      ],
      "text/plain": [
       "    LNR  AGER_TYP  AKT_DAT_KL  ALTER_HH  ALTERSKATEGORIE_FEIN  \\\n",
       "0  1763       2.0         1.0       8.0                   8.0   \n",
       "1  1771       1.0         4.0      13.0                  13.0   \n",
       "2  1776       1.0         1.0       9.0                   7.0   \n",
       "3  1460       2.0         1.0       6.0                   6.0   \n",
       "4  1783       2.0         1.0       9.0                   9.0   \n",
       "\n",
       "   ANZ_HAUSHALTE_AKTIV  ANZ_KINDER  ANZ_PERSONEN  ANZ_STATISTISCHE_HAUSHALTE  \\\n",
       "0                  NaN         0.0           1.0                        13.0   \n",
       "1                  1.0         0.0           2.0                         1.0   \n",
       "2                  NaN         0.0           NaN                         1.0   \n",
       "3                  4.0         0.0           2.0                         4.0   \n",
       "4                  NaN         0.0           1.0                        44.0   \n",
       "\n",
       "   ARBEIT  ...  VK_DHT4A VK_DISTANZ  VK_ZG11  W_KEIT_KIND_HH  WOHNDAUER_2008  \\\n",
       "0     3.0  ...       5.0        2.0      1.0             6.0             9.0   \n",
       "1     2.0  ...       1.0        2.0      1.0             4.0             9.0   \n",
       "2     4.0  ...       6.0        4.0      2.0             NaN             9.0   \n",
       "3     4.0  ...       8.0       11.0     11.0             6.0             9.0   \n",
       "4     3.0  ...       2.0        2.0      1.0             6.0             9.0   \n",
       "\n",
       "   WOHNLAGE  ZABEOTYP  RESPONSE  ANREDE_KZ  ALTERSKATEGORIE_GROB  \n",
       "0       3.0         3         0          2                     4  \n",
       "1       7.0         1         0          2                     3  \n",
       "2       2.0         3         0          1                     4  \n",
       "3       1.0         3         0          2                     4  \n",
       "4       3.0         3         0          1                     3  \n",
       "\n",
       "[5 rows x 358 columns]"
      ]
     },
     "execution_count": 32,
     "metadata": {},
     "output_type": "execute_result"
    }
   ],
   "source": [
    "mailout_train_clean.head()"
   ]
  },
  {
   "cell_type": "code",
   "execution_count": 33,
   "metadata": {},
   "outputs": [],
   "source": [
    "X_train, X_test, y_train, y_test = train_test_split(X, y, stratify=y, test_size=0.2, random_state=10)"
   ]
  },
  {
   "cell_type": "code",
   "execution_count": 34,
   "metadata": {},
   "outputs": [],
   "source": [
    "def fit_models(model, X_train, y_train, X_test, y_test):\n",
    "    '''\n",
    "    Fit a classification model on X_tain, y_tain, and make predictions on X_test, y_test, \n",
    "    and then calculate roc_auc scores.\n",
    "\n",
    "    INPUT:\n",
    "      model: a classification model\n",
    "      X_train: training data\n",
    "      y_tain: taining labels\n",
    "      X_test: test data\n",
    "      y_test: test labels\n",
    "    \n",
    "    OUTPUT:\n",
    "      score: roc_auc for the model  \n",
    "      time: time used to fit the model\n",
    "    \n",
    "    '''\n",
    "    start = time.time()\n",
    "    model = model.fit(X_train, y_train)\n",
    "    \n",
    "    score = roc_auc_score(y_test, model.predict_proba(X_test)[:,1])\n",
    "\n",
    "    end = time.time()\n",
    "    time_elapsed = end - start\n",
    "    \n",
    "    return score, time_elapsed"
   ]
  },
  {
   "cell_type": "code",
   "execution_count": 35,
   "metadata": {},
   "outputs": [],
   "source": [
    "models = [('LogisticRegression', LogisticRegression(random_state=10)),\n",
    "         ('DecisionTreeClassifier', tree.DecisionTreeClassifier(random_state=10)),\n",
    "         ('RandomForestClassifier', RandomForestClassifier(random_state=10)),\n",
    "         ('SupportVectorMachines', svm.SVC(random_state=10, probability=True)),\n",
    "         ('GradientBoostingClassifier', GradientBoostingClassifier(random_state=10)),\n",
    "         ('AdaBoostClassifier', AdaBoostClassifier(random_state=10)),\n",
    "         ('XGBClassifier',xgb.XGBClassifier(random_state=10))]"
   ]
  },
  {
   "cell_type": "code",
   "execution_count": 36,
   "metadata": {},
   "outputs": [
    {
     "name": "stderr",
     "output_type": "stream",
     "text": [
      "/Users/nanliwang/opt/anaconda3/lib/python3.9/site-packages/sklearn/linear_model/_logistic.py:763: ConvergenceWarning: lbfgs failed to converge (status=1):\n",
      "STOP: TOTAL NO. of ITERATIONS REACHED LIMIT.\n",
      "\n",
      "Increase the number of iterations (max_iter) or scale the data as shown in:\n",
      "    https://scikit-learn.org/stable/modules/preprocessing.html\n",
      "Please also refer to the documentation for alternative solver options:\n",
      "    https://scikit-learn.org/stable/modules/linear_model.html#logistic-regression\n",
      "  n_iter_i = _check_optimize_result(\n"
     ]
    }
   ],
   "source": [
    "results = {'Model':[],\n",
    "          'AUCROC':[],\n",
    "          'Time':[]}\n",
    "\n",
    "for mode_name, model in models:\n",
    "    roc_auc, time_used  = fit_models(model, X_train, y_train, X_test, y_test)\n",
    "    results['Model'].append(mode_name)\n",
    "    results['AUCROC'].append(roc_auc)\n",
    "    results['Time'].append(time_used)"
   ]
  },
  {
   "cell_type": "code",
   "execution_count": 37,
   "metadata": {},
   "outputs": [
    {
     "data": {
      "text/html": [
       "<div>\n",
       "<style scoped>\n",
       "    .dataframe tbody tr th:only-of-type {\n",
       "        vertical-align: middle;\n",
       "    }\n",
       "\n",
       "    .dataframe tbody tr th {\n",
       "        vertical-align: top;\n",
       "    }\n",
       "\n",
       "    .dataframe thead th {\n",
       "        text-align: right;\n",
       "    }\n",
       "</style>\n",
       "<table border=\"1\" class=\"dataframe\">\n",
       "  <thead>\n",
       "    <tr style=\"text-align: right;\">\n",
       "      <th></th>\n",
       "      <th>Model</th>\n",
       "      <th>AUCROC</th>\n",
       "      <th>Time</th>\n",
       "    </tr>\n",
       "  </thead>\n",
       "  <tbody>\n",
       "    <tr>\n",
       "      <th>0</th>\n",
       "      <td>LogisticRegression</td>\n",
       "      <td>0.691415</td>\n",
       "      <td>0.735743</td>\n",
       "    </tr>\n",
       "    <tr>\n",
       "      <th>1</th>\n",
       "      <td>DecisionTreeClassifier</td>\n",
       "      <td>0.508873</td>\n",
       "      <td>1.85149</td>\n",
       "    </tr>\n",
       "    <tr>\n",
       "      <th>2</th>\n",
       "      <td>RandomForestClassifier</td>\n",
       "      <td>0.629866</td>\n",
       "      <td>6.15423</td>\n",
       "    </tr>\n",
       "    <tr>\n",
       "      <th>3</th>\n",
       "      <td>SupportVectorMachines</td>\n",
       "      <td>0.643002</td>\n",
       "      <td>627.24936</td>\n",
       "    </tr>\n",
       "    <tr>\n",
       "      <th>4</th>\n",
       "      <td>GradientBoostingClassifier</td>\n",
       "      <td>0.774327</td>\n",
       "      <td>40.581642</td>\n",
       "    </tr>\n",
       "    <tr>\n",
       "      <th>5</th>\n",
       "      <td>AdaBoostClassifier</td>\n",
       "      <td>0.766851</td>\n",
       "      <td>11.303409</td>\n",
       "    </tr>\n",
       "    <tr>\n",
       "      <th>6</th>\n",
       "      <td>XGBClassifier</td>\n",
       "      <td>0.764564</td>\n",
       "      <td>1.364126</td>\n",
       "    </tr>\n",
       "  </tbody>\n",
       "</table>\n",
       "</div>"
      ],
      "text/plain": [
       "                        Model    AUCROC       Time\n",
       "0          LogisticRegression  0.691415   0.735743\n",
       "1      DecisionTreeClassifier  0.508873    1.85149\n",
       "2      RandomForestClassifier  0.629866    6.15423\n",
       "3       SupportVectorMachines  0.643002  627.24936\n",
       "4  GradientBoostingClassifier  0.774327  40.581642\n",
       "5          AdaBoostClassifier  0.766851  11.303409\n",
       "6               XGBClassifier  0.764564   1.364126"
      ]
     },
     "execution_count": 37,
     "metadata": {},
     "output_type": "execute_result"
    }
   ],
   "source": [
    "results = pd.DataFrame.from_dict(results, orient='index').transpose()\n",
    "results"
   ]
  },
  {
   "cell_type": "markdown",
   "metadata": {},
   "source": [
    "From the results table, I can conclude that `Gradient Boosting Classifier`, `Ada Boost Classifier`, and `XGB Classifier` have the best performance regarding auc_roc_scores. `Support Vector Machines` took the longest time, almost 10 minutes, but the performance wasn't satisfactory."
   ]
  },
  {
   "cell_type": "markdown",
   "metadata": {},
   "source": [
    "### Gride Search\n",
    "In this part, I will turn parameters for algorithms that have better performance from the last part using `Grid Search` method."
   ]
  },
  {
   "cell_type": "markdown",
   "metadata": {},
   "source": [
    "#### Gradient Boosting Classifier"
   ]
  },
  {
   "cell_type": "code",
   "execution_count": 61,
   "metadata": {},
   "outputs": [
    {
     "data": {
      "text/plain": [
       "{'ccp_alpha': 0.0,\n",
       " 'criterion': 'friedman_mse',\n",
       " 'init': None,\n",
       " 'learning_rate': 0.1,\n",
       " 'loss': 'deviance',\n",
       " 'max_depth': 3,\n",
       " 'max_features': None,\n",
       " 'max_leaf_nodes': None,\n",
       " 'min_impurity_decrease': 0.0,\n",
       " 'min_impurity_split': None,\n",
       " 'min_samples_leaf': 1,\n",
       " 'min_samples_split': 2,\n",
       " 'min_weight_fraction_leaf': 0.0,\n",
       " 'n_estimators': 100,\n",
       " 'n_iter_no_change': None,\n",
       " 'random_state': None,\n",
       " 'subsample': 1.0,\n",
       " 'tol': 0.0001,\n",
       " 'validation_fraction': 0.1,\n",
       " 'verbose': 0,\n",
       " 'warm_start': False}"
      ]
     },
     "execution_count": 61,
     "metadata": {},
     "output_type": "execute_result"
    }
   ],
   "source": [
    "GradientBoostingClassifier().get_params()"
   ]
  },
  {
   "cell_type": "code",
   "execution_count": 42,
   "metadata": {},
   "outputs": [
    {
     "name": "stdout",
     "output_type": "stream",
     "text": [
      "Fitting 5 folds for each of 16 candidates, totalling 80 fits\n",
      "[CV] END learning_rate=0.1, max_depth=3, min_samples_split=2, n_estimators=100; total time=  31.9s\n",
      "[CV] END learning_rate=0.1, max_depth=3, min_samples_split=2, n_estimators=100; total time=  31.0s\n",
      "[CV] END learning_rate=0.1, max_depth=3, min_samples_split=2, n_estimators=100; total time=  27.7s\n",
      "[CV] END learning_rate=0.1, max_depth=3, min_samples_split=2, n_estimators=100; total time=  27.7s\n",
      "[CV] END learning_rate=0.1, max_depth=3, min_samples_split=2, n_estimators=100; total time=  27.8s\n",
      "[CV] END learning_rate=0.1, max_depth=3, min_samples_split=2, n_estimators=150; total time=  41.1s\n",
      "[CV] END learning_rate=0.1, max_depth=3, min_samples_split=2, n_estimators=150; total time=  41.4s\n",
      "[CV] END learning_rate=0.1, max_depth=3, min_samples_split=2, n_estimators=150; total time=  44.5s\n",
      "[CV] END learning_rate=0.1, max_depth=3, min_samples_split=2, n_estimators=150; total time=  45.7s\n",
      "[CV] END learning_rate=0.1, max_depth=3, min_samples_split=2, n_estimators=150; total time=  45.7s\n",
      "[CV] END learning_rate=0.1, max_depth=3, min_samples_split=4, n_estimators=100; total time=  30.4s\n",
      "[CV] END learning_rate=0.1, max_depth=3, min_samples_split=4, n_estimators=100; total time=  30.6s\n",
      "[CV] END learning_rate=0.1, max_depth=3, min_samples_split=4, n_estimators=100; total time=  30.4s\n",
      "[CV] END learning_rate=0.1, max_depth=3, min_samples_split=4, n_estimators=100; total time=  30.3s\n",
      "[CV] END learning_rate=0.1, max_depth=3, min_samples_split=4, n_estimators=100; total time=  30.4s\n",
      "[CV] END learning_rate=0.1, max_depth=3, min_samples_split=4, n_estimators=150; total time=  45.4s\n",
      "[CV] END learning_rate=0.1, max_depth=3, min_samples_split=4, n_estimators=150; total time=  46.3s\n",
      "[CV] END learning_rate=0.1, max_depth=3, min_samples_split=4, n_estimators=150; total time=  46.1s\n",
      "[CV] END learning_rate=0.1, max_depth=3, min_samples_split=4, n_estimators=150; total time=  45.6s\n",
      "[CV] END learning_rate=0.1, max_depth=3, min_samples_split=4, n_estimators=150; total time=  44.4s\n",
      "[CV] END learning_rate=0.1, max_depth=5, min_samples_split=2, n_estimators=100; total time=  46.4s\n",
      "[CV] END learning_rate=0.1, max_depth=5, min_samples_split=2, n_estimators=100; total time=  45.6s\n",
      "[CV] END learning_rate=0.1, max_depth=5, min_samples_split=2, n_estimators=100; total time=  45.7s\n",
      "[CV] END learning_rate=0.1, max_depth=5, min_samples_split=2, n_estimators=100; total time=  46.2s\n",
      "[CV] END learning_rate=0.1, max_depth=5, min_samples_split=2, n_estimators=100; total time=  53.6s\n",
      "[CV] END learning_rate=0.1, max_depth=5, min_samples_split=2, n_estimators=150; total time= 1.3min\n",
      "[CV] END learning_rate=0.1, max_depth=5, min_samples_split=2, n_estimators=150; total time= 1.3min\n",
      "[CV] END learning_rate=0.1, max_depth=5, min_samples_split=2, n_estimators=150; total time= 1.3min\n",
      "[CV] END learning_rate=0.1, max_depth=5, min_samples_split=2, n_estimators=150; total time= 1.3min\n",
      "[CV] END learning_rate=0.1, max_depth=5, min_samples_split=2, n_estimators=150; total time= 1.3min\n",
      "[CV] END learning_rate=0.1, max_depth=5, min_samples_split=4, n_estimators=100; total time=  52.5s\n",
      "[CV] END learning_rate=0.1, max_depth=5, min_samples_split=4, n_estimators=100; total time=  52.6s\n",
      "[CV] END learning_rate=0.1, max_depth=5, min_samples_split=4, n_estimators=100; total time=  53.2s\n",
      "[CV] END learning_rate=0.1, max_depth=5, min_samples_split=4, n_estimators=100; total time=  54.0s\n",
      "[CV] END learning_rate=0.1, max_depth=5, min_samples_split=4, n_estimators=100; total time=  54.5s\n",
      "[CV] END learning_rate=0.1, max_depth=5, min_samples_split=4, n_estimators=150; total time= 1.3min\n",
      "[CV] END learning_rate=0.1, max_depth=5, min_samples_split=4, n_estimators=150; total time= 1.3min\n",
      "[CV] END learning_rate=0.1, max_depth=5, min_samples_split=4, n_estimators=150; total time= 1.3min\n",
      "[CV] END learning_rate=0.1, max_depth=5, min_samples_split=4, n_estimators=150; total time= 1.3min\n",
      "[CV] END learning_rate=0.1, max_depth=5, min_samples_split=4, n_estimators=150; total time= 1.3min\n",
      "[CV] END learning_rate=0.2, max_depth=3, min_samples_split=2, n_estimators=100; total time=  30.1s\n",
      "[CV] END learning_rate=0.2, max_depth=3, min_samples_split=2, n_estimators=100; total time=  30.0s\n",
      "[CV] END learning_rate=0.2, max_depth=3, min_samples_split=2, n_estimators=100; total time=  30.1s\n",
      "[CV] END learning_rate=0.2, max_depth=3, min_samples_split=2, n_estimators=100; total time=  30.0s\n",
      "[CV] END learning_rate=0.2, max_depth=3, min_samples_split=2, n_estimators=100; total time=  30.1s\n",
      "[CV] END learning_rate=0.2, max_depth=3, min_samples_split=2, n_estimators=150; total time=  45.1s\n",
      "[CV] END learning_rate=0.2, max_depth=3, min_samples_split=2, n_estimators=150; total time=  45.0s\n",
      "[CV] END learning_rate=0.2, max_depth=3, min_samples_split=2, n_estimators=150; total time=  45.3s\n",
      "[CV] END learning_rate=0.2, max_depth=3, min_samples_split=2, n_estimators=150; total time=  44.8s\n",
      "[CV] END learning_rate=0.2, max_depth=3, min_samples_split=2, n_estimators=150; total time=  44.7s\n",
      "[CV] END learning_rate=0.2, max_depth=3, min_samples_split=4, n_estimators=100; total time=  30.3s\n",
      "[CV] END learning_rate=0.2, max_depth=3, min_samples_split=4, n_estimators=100; total time=  30.3s\n",
      "[CV] END learning_rate=0.2, max_depth=3, min_samples_split=4, n_estimators=100; total time=  30.3s\n",
      "[CV] END learning_rate=0.2, max_depth=3, min_samples_split=4, n_estimators=100; total time=  30.3s\n",
      "[CV] END learning_rate=0.2, max_depth=3, min_samples_split=4, n_estimators=100; total time=  30.4s\n",
      "[CV] END learning_rate=0.2, max_depth=3, min_samples_split=4, n_estimators=150; total time=  45.8s\n",
      "[CV] END learning_rate=0.2, max_depth=3, min_samples_split=4, n_estimators=150; total time=  45.8s\n",
      "[CV] END learning_rate=0.2, max_depth=3, min_samples_split=4, n_estimators=150; total time=  47.8s\n",
      "[CV] END learning_rate=0.2, max_depth=3, min_samples_split=4, n_estimators=150; total time=  48.7s\n",
      "[CV] END learning_rate=0.2, max_depth=3, min_samples_split=4, n_estimators=150; total time=  48.6s\n",
      "[CV] END learning_rate=0.2, max_depth=5, min_samples_split=2, n_estimators=100; total time=  53.5s\n",
      "[CV] END learning_rate=0.2, max_depth=5, min_samples_split=2, n_estimators=100; total time=  52.1s\n",
      "[CV] END learning_rate=0.2, max_depth=5, min_samples_split=2, n_estimators=100; total time=  48.5s\n",
      "[CV] END learning_rate=0.2, max_depth=5, min_samples_split=2, n_estimators=100; total time=  46.8s\n",
      "[CV] END learning_rate=0.2, max_depth=5, min_samples_split=2, n_estimators=100; total time=  46.8s\n",
      "[CV] END learning_rate=0.2, max_depth=5, min_samples_split=2, n_estimators=150; total time= 1.2min\n",
      "[CV] END learning_rate=0.2, max_depth=5, min_samples_split=2, n_estimators=150; total time= 1.2min\n",
      "[CV] END learning_rate=0.2, max_depth=5, min_samples_split=2, n_estimators=150; total time= 1.2min\n",
      "[CV] END learning_rate=0.2, max_depth=5, min_samples_split=2, n_estimators=150; total time= 1.3min\n",
      "[CV] END learning_rate=0.2, max_depth=5, min_samples_split=2, n_estimators=150; total time= 1.3min\n",
      "[CV] END learning_rate=0.2, max_depth=5, min_samples_split=4, n_estimators=100; total time=  52.1s\n",
      "[CV] END learning_rate=0.2, max_depth=5, min_samples_split=4, n_estimators=100; total time=  53.7s\n",
      "[CV] END learning_rate=0.2, max_depth=5, min_samples_split=4, n_estimators=100; total time=  55.0s\n",
      "[CV] END learning_rate=0.2, max_depth=5, min_samples_split=4, n_estimators=100; total time=  54.9s\n",
      "[CV] END learning_rate=0.2, max_depth=5, min_samples_split=4, n_estimators=100; total time=  57.6s\n",
      "[CV] END learning_rate=0.2, max_depth=5, min_samples_split=4, n_estimators=150; total time= 1.4min\n",
      "[CV] END learning_rate=0.2, max_depth=5, min_samples_split=4, n_estimators=150; total time= 1.4min\n",
      "[CV] END learning_rate=0.2, max_depth=5, min_samples_split=4, n_estimators=150; total time= 1.4min\n",
      "[CV] END learning_rate=0.2, max_depth=5, min_samples_split=4, n_estimators=150; total time= 1.4min\n",
      "[CV] END learning_rate=0.2, max_depth=5, min_samples_split=4, n_estimators=150; total time= 1.4min\n"
     ]
    },
    {
     "data": {
      "text/plain": [
       "GridSearchCV(estimator=GradientBoostingClassifier(random_state=10),\n",
       "             param_grid={'learning_rate': [0.1, 0.2], 'max_depth': [3, 5],\n",
       "                         'min_samples_split': [2, 4],\n",
       "                         'n_estimators': [100, 150]},\n",
       "             scoring='roc_auc', verbose=2)"
      ]
     },
     "execution_count": 42,
     "metadata": {},
     "output_type": "execute_result"
    }
   ],
   "source": [
    "\n",
    "gbc_parameters = {'learning_rate': [0.1, 0.2], 'n_estimators': [100, 150],\n",
    "            'max_depth': [3, 5], 'min_samples_split': [2,4]}        \n",
    "        \n",
    "gbc_grid = GridSearchCV(estimator=GradientBoostingClassifier(random_state=10), param_grid=gbc_parameters,\n",
    "            scoring = 'roc_auc', verbose=2)\n",
    "\n",
    "\n",
    "gbc_grid.fit(X_train, y_train)"
   ]
  },
  {
   "cell_type": "code",
   "execution_count": 45,
   "metadata": {},
   "outputs": [
    {
     "name": "stdout",
     "output_type": "stream",
     "text": [
      "Best Score fore Gradient Boosting Classifier: 0.7782373649578282\n",
      "Best Parameters for Gradient Bosting Classifier:  {'learning_rate': 0.1, 'max_depth': 5, 'min_samples_split': 2, 'n_estimators': 100}\n"
     ]
    }
   ],
   "source": [
    "# get the best estimator\n",
    "gbc_best = gbc_grid.best_estimator_\n",
    "\n",
    "print('Best Score fore Gradient Boosting Classifier:', gbc_grid.best_score_)\n",
    "print('Best Parameters for Gradient Bosting Classifier: ', gbc_grid.best_params_)"
   ]
  },
  {
   "cell_type": "code",
   "execution_count": 46,
   "metadata": {},
   "outputs": [
    {
     "name": "stdout",
     "output_type": "stream",
     "text": [
      "ROC Score on Test Set: 0.7868\n"
     ]
    }
   ],
   "source": [
    "# get predictions\n",
    "gbc_preds = gbc_best.predict_proba(X_test)[:,1]\n",
    "\n",
    "print('ROC Score on Test Set: {:.4f}'.format(roc_auc_score(y_test, gbc_preds)))"
   ]
  },
  {
   "cell_type": "code",
   "execution_count": 49,
   "metadata": {},
   "outputs": [],
   "source": [
    "# save model\n",
    "pickle.dump(gbc_best, open('./data/gbc_best.pickle.dat', 'wb'))"
   ]
  },
  {
   "cell_type": "code",
   "execution_count": 52,
   "metadata": {},
   "outputs": [],
   "source": [
    "# gbc_best.feature_importances_"
   ]
  },
  {
   "cell_type": "code",
   "execution_count": 54,
   "metadata": {},
   "outputs": [],
   "source": [
    "feature_importances = gbc_best.feature_importances_"
   ]
  },
  {
   "cell_type": "code",
   "execution_count": 57,
   "metadata": {},
   "outputs": [
    {
     "data": {
      "image/png": "[encoded data removed]",
      "text/plain": [
       "<Figure size 504x720 with 1 Axes>"
      ]
     },
     "metadata": {
      "needs_background": "light"
     },
     "output_type": "display_data"
    }
   ],
   "source": [
    "pd.Series(feature_importances, X.columns).sort_values()[-10:].plot(kind='barh', figsize=(7,10))\n",
    "plt.title('Feature Importance for Gradient Boosting Classifier')\n",
    "plt.xlabel('Feature Importance')\n",
    "plt.savefig('FeatureImportance_gbc.png', dpi=500);"
   ]
  },
  {
   "cell_type": "markdown",
   "metadata": {},
   "source": [
    "#### Ada Boost Classifier"
   ]
  },
  {
   "cell_type": "code",
   "execution_count": 62,
   "metadata": {},
   "outputs": [
    {
     "data": {
      "text/plain": [
       "{'algorithm': 'SAMME.R',\n",
       " 'base_estimator': None,\n",
       " 'learning_rate': 1.0,\n",
       " 'n_estimators': 50,\n",
       " 'random_state': None}"
      ]
     },
     "execution_count": 62,
     "metadata": {},
     "output_type": "execute_result"
    }
   ],
   "source": [
    "AdaBoostClassifier().get_params()"
   ]
  },
  {
   "cell_type": "code",
   "execution_count": 58,
   "metadata": {},
   "outputs": [
    {
     "name": "stdout",
     "output_type": "stream",
     "text": [
      "Fitting 5 folds for each of 6 candidates, totalling 30 fits\n",
      "[CV] END algorithm=SAMME.R, learning_rate=0.1, n_estimators=50; total time=   7.2s\n",
      "[CV] END algorithm=SAMME.R, learning_rate=0.1, n_estimators=50; total time=   7.4s\n",
      "[CV] END algorithm=SAMME.R, learning_rate=0.1, n_estimators=50; total time=   7.5s\n",
      "[CV] END algorithm=SAMME.R, learning_rate=0.1, n_estimators=50; total time=   7.4s\n",
      "[CV] END algorithm=SAMME.R, learning_rate=0.1, n_estimators=50; total time=   7.4s\n",
      "[CV] END algorithm=SAMME.R, learning_rate=0.1, n_estimators=100; total time=  14.0s\n",
      "[CV] END algorithm=SAMME.R, learning_rate=0.1, n_estimators=100; total time=  14.6s\n",
      "[CV] END algorithm=SAMME.R, learning_rate=0.1, n_estimators=100; total time=  14.0s\n",
      "[CV] END algorithm=SAMME.R, learning_rate=0.1, n_estimators=100; total time=  14.3s\n",
      "[CV] END algorithm=SAMME.R, learning_rate=0.1, n_estimators=100; total time=  14.8s\n",
      "[CV] END algorithm=SAMME.R, learning_rate=0.5, n_estimators=50; total time=   8.0s\n",
      "[CV] END algorithm=SAMME.R, learning_rate=0.5, n_estimators=50; total time=   7.4s\n",
      "[CV] END algorithm=SAMME.R, learning_rate=0.5, n_estimators=50; total time=   8.1s\n",
      "[CV] END algorithm=SAMME.R, learning_rate=0.5, n_estimators=50; total time=   7.7s\n",
      "[CV] END algorithm=SAMME.R, learning_rate=0.5, n_estimators=50; total time=   7.7s\n",
      "[CV] END algorithm=SAMME.R, learning_rate=0.5, n_estimators=100; total time=  14.5s\n",
      "[CV] END algorithm=SAMME.R, learning_rate=0.5, n_estimators=100; total time=  14.3s\n",
      "[CV] END algorithm=SAMME.R, learning_rate=0.5, n_estimators=100; total time=  13.3s\n",
      "[CV] END algorithm=SAMME.R, learning_rate=0.5, n_estimators=100; total time=  13.2s\n",
      "[CV] END algorithm=SAMME.R, learning_rate=0.5, n_estimators=100; total time=  13.7s\n",
      "[CV] END algorithm=SAMME.R, learning_rate=1, n_estimators=50; total time=   6.6s\n",
      "[CV] END algorithm=SAMME.R, learning_rate=1, n_estimators=50; total time=   6.7s\n",
      "[CV] END algorithm=SAMME.R, learning_rate=1, n_estimators=50; total time=   6.5s\n",
      "[CV] END algorithm=SAMME.R, learning_rate=1, n_estimators=50; total time=   6.7s\n",
      "[CV] END algorithm=SAMME.R, learning_rate=1, n_estimators=50; total time=   6.4s\n",
      "[CV] END algorithm=SAMME.R, learning_rate=1, n_estimators=100; total time=  12.6s\n",
      "[CV] END algorithm=SAMME.R, learning_rate=1, n_estimators=100; total time=  13.6s\n",
      "[CV] END algorithm=SAMME.R, learning_rate=1, n_estimators=100; total time=  12.9s\n",
      "[CV] END algorithm=SAMME.R, learning_rate=1, n_estimators=100; total time=  13.3s\n",
      "[CV] END algorithm=SAMME.R, learning_rate=1, n_estimators=100; total time=  13.6s\n"
     ]
    },
    {
     "data": {
      "text/plain": [
       "GridSearchCV(estimator=AdaBoostClassifier(random_state=10),\n",
       "             param_grid={'algorithm': ['SAMME.R'],\n",
       "                         'learning_rate': [0.1, 0.5, 1],\n",
       "                         'n_estimators': [50, 100]},\n",
       "             scoring='roc_auc', verbose=2)"
      ]
     },
     "execution_count": 58,
     "metadata": {},
     "output_type": "execute_result"
    }
   ],
   "source": [
    "ada_parameters = {'learning_rate': [0.1, 0.5, 1], 'n_estimators': [50, 100],\n",
    "            'algorithm':['SAMME.R']}        \n",
    "        \n",
    "ada_grid = GridSearchCV(estimator=AdaBoostClassifier(random_state=10), param_grid=ada_parameters,\n",
    "            scoring = 'roc_auc', verbose=2)\n",
    "\n",
    "\n",
    "ada_grid.fit(X_train, y_train)"
   ]
  },
  {
   "cell_type": "code",
   "execution_count": 63,
   "metadata": {},
   "outputs": [
    {
     "name": "stdout",
     "output_type": "stream",
     "text": [
      "Best Score fore Ada Boosting Classifier: 0.773432288037718\n",
      "Best Parameters for Ada Bosting Classifier:  {'algorithm': 'SAMME.R', 'learning_rate': 0.1, 'n_estimators': 50}\n"
     ]
    }
   ],
   "source": [
    "# get the best estimator\n",
    "ada_best = ada_grid.best_estimator_\n",
    "\n",
    "print('Best Score fore Ada Boosting Classifier:', ada_grid.best_score_)\n",
    "print('Best Parameters for Ada Bosting Classifier: ', ada_grid.best_params_)"
   ]
  },
  {
   "cell_type": "code",
   "execution_count": 64,
   "metadata": {},
   "outputs": [
    {
     "name": "stdout",
     "output_type": "stream",
     "text": [
      "ROC Score on Test Set: 0.7925\n"
     ]
    }
   ],
   "source": [
    "# get predictions\n",
    "ada_preds = ada_best.predict_proba(X_test)[:,1]\n",
    "\n",
    "print('ROC Score on Test Set: {:.4f}'.format(roc_auc_score(y_test, ada_preds)))"
   ]
  },
  {
   "cell_type": "code",
   "execution_count": 65,
   "metadata": {},
   "outputs": [],
   "source": [
    "# save model\n",
    "pickle.dump(ada_best, open('./data/ada_best.pickle.dat', 'wb'))"
   ]
  },
  {
   "cell_type": "code",
   "execution_count": 66,
   "metadata": {},
   "outputs": [
    {
     "data": {
      "image/png": "[encoded data removed]",
      "text/plain": [
       "<Figure size 504x720 with 1 Axes>"
      ]
     },
     "metadata": {
      "needs_background": "light"
     },
     "output_type": "display_data"
    }
   ],
   "source": [
    "feature_importances = ada_best.feature_importances_\n",
    "pd.Series(feature_importances, X.columns).sort_values()[-10:].plot(kind='barh', figsize=(7,10))\n",
    "plt.title('Feature Importance for Ada Boosting Classifier')\n",
    "plt.xlabel('Feature Importance')\n",
    "plt.savefig('FeatureImportance_gbc.png', dpi=500);"
   ]
  },
  {
   "cell_type": "markdown",
   "metadata": {},
   "source": [
    "#### XGBoost Classifier"
   ]
  },
  {
   "cell_type": "code",
   "execution_count": 67,
   "metadata": {},
   "outputs": [
    {
     "data": {
      "text/plain": [
       "{'objective': 'binary:logistic',\n",
       " 'base_score': None,\n",
       " 'booster': None,\n",
       " 'callbacks': None,\n",
       " 'colsample_bylevel': None,\n",
       " 'colsample_bynode': None,\n",
       " 'colsample_bytree': None,\n",
       " 'device': None,\n",
       " 'early_stopping_rounds': None,\n",
       " 'enable_categorical': False,\n",
       " 'eval_metric': None,\n",
       " 'feature_types': None,\n",
       " 'gamma': None,\n",
       " 'grow_policy': None,\n",
       " 'importance_type': None,\n",
       " 'interaction_constraints': None,\n",
       " 'learning_rate': None,\n",
       " 'max_bin': None,\n",
       " 'max_cat_threshold': None,\n",
       " 'max_cat_to_onehot': None,\n",
       " 'max_delta_step': None,\n",
       " 'max_depth': None,\n",
       " 'max_leaves': None,\n",
       " 'min_child_weight': None,\n",
       " 'missing': nan,\n",
       " 'monotone_constraints': None,\n",
       " 'multi_strategy': None,\n",
       " 'n_estimators': None,\n",
       " 'n_jobs': None,\n",
       " 'num_parallel_tree': None,\n",
       " 'random_state': None,\n",
       " 'reg_alpha': None,\n",
       " 'reg_lambda': None,\n",
       " 'sampling_method': None,\n",
       " 'scale_pos_weight': None,\n",
       " 'subsample': None,\n",
       " 'tree_method': None,\n",
       " 'validate_parameters': None,\n",
       " 'verbosity': None}"
      ]
     },
     "execution_count": 67,
     "metadata": {},
     "output_type": "execute_result"
    }
   ],
   "source": [
    "xgb.XGBClassifier().get_params()"
   ]
  },
  {
   "cell_type": "code",
   "execution_count": 68,
   "metadata": {},
   "outputs": [
    {
     "name": "stdout",
     "output_type": "stream",
     "text": [
      "Fitting 5 folds for each of 16 candidates, totalling 80 fits\n",
      "[CV] END gamma=0.1, learning_rate=0.01, max_depth=3, n_estimators=100; total time=   1.1s\n",
      "[CV] END gamma=0.1, learning_rate=0.01, max_depth=3, n_estimators=100; total time=   1.6s\n",
      "[CV] END gamma=0.1, learning_rate=0.01, max_depth=3, n_estimators=100; total time=   1.2s\n",
      "[CV] END gamma=0.1, learning_rate=0.01, max_depth=3, n_estimators=100; total time=   1.0s\n",
      "[CV] END gamma=0.1, learning_rate=0.01, max_depth=3, n_estimators=100; total time=   1.0s\n",
      "[CV] END gamma=0.1, learning_rate=0.01, max_depth=3, n_estimators=200; total time=   1.8s\n",
      "[CV] END gamma=0.1, learning_rate=0.01, max_depth=3, n_estimators=200; total time=   1.7s\n",
      "[CV] END gamma=0.1, learning_rate=0.01, max_depth=3, n_estimators=200; total time=   1.8s\n",
      "[CV] END gamma=0.1, learning_rate=0.01, max_depth=3, n_estimators=200; total time=   1.8s\n",
      "[CV] END gamma=0.1, learning_rate=0.01, max_depth=3, n_estimators=200; total time=   1.8s\n",
      "[CV] END gamma=0.1, learning_rate=0.01, max_depth=5, n_estimators=100; total time=   1.6s\n",
      "[CV] END gamma=0.1, learning_rate=0.01, max_depth=5, n_estimators=100; total time=   1.3s\n",
      "[CV] END gamma=0.1, learning_rate=0.01, max_depth=5, n_estimators=100; total time=   1.7s\n",
      "[CV] END gamma=0.1, learning_rate=0.01, max_depth=5, n_estimators=100; total time=   1.4s\n",
      "[CV] END gamma=0.1, learning_rate=0.01, max_depth=5, n_estimators=100; total time=   1.5s\n",
      "[CV] END gamma=0.1, learning_rate=0.01, max_depth=5, n_estimators=200; total time=   1.9s\n",
      "[CV] END gamma=0.1, learning_rate=0.01, max_depth=5, n_estimators=200; total time=   1.8s\n",
      "[CV] END gamma=0.1, learning_rate=0.01, max_depth=5, n_estimators=200; total time=   2.5s\n",
      "[CV] END gamma=0.1, learning_rate=0.01, max_depth=5, n_estimators=200; total time=   2.4s\n",
      "[CV] END gamma=0.1, learning_rate=0.01, max_depth=5, n_estimators=200; total time=   3.3s\n",
      "[CV] END gamma=0.1, learning_rate=0.1, max_depth=3, n_estimators=100; total time=   1.2s\n",
      "[CV] END gamma=0.1, learning_rate=0.1, max_depth=3, n_estimators=100; total time=   1.2s\n",
      "[CV] END gamma=0.1, learning_rate=0.1, max_depth=3, n_estimators=100; total time=   1.3s\n",
      "[CV] END gamma=0.1, learning_rate=0.1, max_depth=3, n_estimators=100; total time=   1.2s\n",
      "[CV] END gamma=0.1, learning_rate=0.1, max_depth=3, n_estimators=100; total time=   1.5s\n",
      "[CV] END gamma=0.1, learning_rate=0.1, max_depth=3, n_estimators=200; total time=   2.3s\n",
      "[CV] END gamma=0.1, learning_rate=0.1, max_depth=3, n_estimators=200; total time=   2.2s\n",
      "[CV] END gamma=0.1, learning_rate=0.1, max_depth=3, n_estimators=200; total time=   2.1s\n",
      "[CV] END gamma=0.1, learning_rate=0.1, max_depth=3, n_estimators=200; total time=   1.9s\n",
      "[CV] END gamma=0.1, learning_rate=0.1, max_depth=3, n_estimators=200; total time=   1.8s\n",
      "[CV] END gamma=0.1, learning_rate=0.1, max_depth=5, n_estimators=100; total time=   1.4s\n",
      "[CV] END gamma=0.1, learning_rate=0.1, max_depth=5, n_estimators=100; total time=   1.6s\n",
      "[CV] END gamma=0.1, learning_rate=0.1, max_depth=5, n_estimators=100; total time=   1.4s\n",
      "[CV] END gamma=0.1, learning_rate=0.1, max_depth=5, n_estimators=100; total time=   1.8s\n",
      "[CV] END gamma=0.1, learning_rate=0.1, max_depth=5, n_estimators=100; total time=   2.0s\n",
      "[CV] END gamma=0.1, learning_rate=0.1, max_depth=5, n_estimators=200; total time=   2.9s\n",
      "[CV] END gamma=0.1, learning_rate=0.1, max_depth=5, n_estimators=200; total time=   2.5s\n",
      "[CV] END gamma=0.1, learning_rate=0.1, max_depth=5, n_estimators=200; total time=   2.8s\n",
      "[CV] END gamma=0.1, learning_rate=0.1, max_depth=5, n_estimators=200; total time=   2.2s\n",
      "[CV] END gamma=0.1, learning_rate=0.1, max_depth=5, n_estimators=200; total time=   2.8s\n",
      "[CV] END gamma=1.0, learning_rate=0.01, max_depth=3, n_estimators=100; total time=   1.8s\n",
      "[CV] END gamma=1.0, learning_rate=0.01, max_depth=3, n_estimators=100; total time=   1.6s\n",
      "[CV] END gamma=1.0, learning_rate=0.01, max_depth=3, n_estimators=100; total time=   1.3s\n",
      "[CV] END gamma=1.0, learning_rate=0.01, max_depth=3, n_estimators=100; total time=   1.5s\n",
      "[CV] END gamma=1.0, learning_rate=0.01, max_depth=3, n_estimators=100; total time=   1.5s\n",
      "[CV] END gamma=1.0, learning_rate=0.01, max_depth=3, n_estimators=200; total time=   2.1s\n",
      "[CV] END gamma=1.0, learning_rate=0.01, max_depth=3, n_estimators=200; total time=   2.3s\n",
      "[CV] END gamma=1.0, learning_rate=0.01, max_depth=3, n_estimators=200; total time=   2.3s\n",
      "[CV] END gamma=1.0, learning_rate=0.01, max_depth=3, n_estimators=200; total time=   1.9s\n",
      "[CV] END gamma=1.0, learning_rate=0.01, max_depth=3, n_estimators=200; total time=   1.9s\n",
      "[CV] END gamma=1.0, learning_rate=0.01, max_depth=5, n_estimators=100; total time=   1.4s\n",
      "[CV] END gamma=1.0, learning_rate=0.01, max_depth=5, n_estimators=100; total time=   1.8s\n",
      "[CV] END gamma=1.0, learning_rate=0.01, max_depth=5, n_estimators=100; total time=   1.2s\n",
      "[CV] END gamma=1.0, learning_rate=0.01, max_depth=5, n_estimators=100; total time=   1.7s\n",
      "[CV] END gamma=1.0, learning_rate=0.01, max_depth=5, n_estimators=100; total time=   1.7s\n",
      "[CV] END gamma=1.0, learning_rate=0.01, max_depth=5, n_estimators=200; total time=   2.5s\n",
      "[CV] END gamma=1.0, learning_rate=0.01, max_depth=5, n_estimators=200; total time=   3.2s\n",
      "[CV] END gamma=1.0, learning_rate=0.01, max_depth=5, n_estimators=200; total time=   2.9s\n",
      "[CV] END gamma=1.0, learning_rate=0.01, max_depth=5, n_estimators=200; total time=   2.6s\n",
      "[CV] END gamma=1.0, learning_rate=0.01, max_depth=5, n_estimators=200; total time=   2.6s\n",
      "[CV] END gamma=1.0, learning_rate=0.1, max_depth=3, n_estimators=100; total time=   1.1s\n",
      "[CV] END gamma=1.0, learning_rate=0.1, max_depth=3, n_estimators=100; total time=   1.3s\n",
      "[CV] END gamma=1.0, learning_rate=0.1, max_depth=3, n_estimators=100; total time=   1.5s\n",
      "[CV] END gamma=1.0, learning_rate=0.1, max_depth=3, n_estimators=100; total time=   1.4s\n",
      "[CV] END gamma=1.0, learning_rate=0.1, max_depth=3, n_estimators=100; total time=   1.4s\n",
      "[CV] END gamma=1.0, learning_rate=0.1, max_depth=3, n_estimators=200; total time=   1.8s\n",
      "[CV] END gamma=1.0, learning_rate=0.1, max_depth=3, n_estimators=200; total time=   2.0s\n",
      "[CV] END gamma=1.0, learning_rate=0.1, max_depth=3, n_estimators=200; total time=   1.8s\n",
      "[CV] END gamma=1.0, learning_rate=0.1, max_depth=3, n_estimators=200; total time=   1.8s\n",
      "[CV] END gamma=1.0, learning_rate=0.1, max_depth=3, n_estimators=200; total time=   2.8s\n",
      "[CV] END gamma=1.0, learning_rate=0.1, max_depth=5, n_estimators=100; total time=   1.4s\n",
      "[CV] END gamma=1.0, learning_rate=0.1, max_depth=5, n_estimators=100; total time=   1.4s\n",
      "[CV] END gamma=1.0, learning_rate=0.1, max_depth=5, n_estimators=100; total time=   1.5s\n",
      "[CV] END gamma=1.0, learning_rate=0.1, max_depth=5, n_estimators=100; total time=   1.9s\n",
      "[CV] END gamma=1.0, learning_rate=0.1, max_depth=5, n_estimators=100; total time=   1.5s\n",
      "[CV] END gamma=1.0, learning_rate=0.1, max_depth=5, n_estimators=200; total time=   1.7s\n",
      "[CV] END gamma=1.0, learning_rate=0.1, max_depth=5, n_estimators=200; total time=   1.9s\n",
      "[CV] END gamma=1.0, learning_rate=0.1, max_depth=5, n_estimators=200; total time=   1.7s\n",
      "[CV] END gamma=1.0, learning_rate=0.1, max_depth=5, n_estimators=200; total time=   1.9s\n",
      "[CV] END gamma=1.0, learning_rate=0.1, max_depth=5, n_estimators=200; total time=   2.2s\n"
     ]
    },
    {
     "data": {
      "text/plain": [
       "GridSearchCV(estimator=XGBClassifier(base_score=None, booster=None,\n",
       "                                     callbacks=None, colsample_bylevel=None,\n",
       "                                     colsample_bynode=None,\n",
       "                                     colsample_bytree=None, device=None,\n",
       "                                     early_stopping_rounds=None,\n",
       "                                     enable_categorical=False, eval_metric=None,\n",
       "                                     feature_types=None, gamma=None,\n",
       "                                     grow_policy=None, importance_type=None,\n",
       "                                     interaction_constraints=None,\n",
       "                                     learning_rate=None, max_b...\n",
       "                                     max_cat_to_onehot=None,\n",
       "                                     max_delta_step=None, max_depth=None,\n",
       "                                     max_leaves=None, min_child_weight=None,\n",
       "                                     missing=nan, monotone_constraints=None,\n",
       "                                     multi_strategy=None, n_estimators=None,\n",
       "                                     n_jobs=None, num_parallel_tree=None,\n",
       "                                     random_state=10, ...),\n",
       "             param_grid={'gamma': [0.1, 1.0], 'learning_rate': [0.01, 0.1],\n",
       "                         'max_depth': [3, 5], 'n_estimators': [100, 200]},\n",
       "             scoring='roc_auc', verbose=2)"
      ]
     },
     "execution_count": 68,
     "metadata": {},
     "output_type": "execute_result"
    }
   ],
   "source": [
    "xgb_parameters = {'learning_rate': [0.01, 0.1], 'n_estimators': [100, 200],\n",
    "            'max_depth': [3, 5], 'gamma': [0.1, 1.0]}    \n",
    "        \n",
    "xgb_grid = GridSearchCV(estimator=xgb.XGBClassifier(random_state=10), param_grid=xgb_parameters,\n",
    "            scoring = 'roc_auc', verbose=2)\n",
    "\n",
    "\n",
    "xgb_grid.fit(X_train, y_train)"
   ]
  },
  {
   "cell_type": "code",
   "execution_count": 69,
   "metadata": {},
   "outputs": [
    {
     "name": "stdout",
     "output_type": "stream",
     "text": [
      "Best Score fore XGBoost Classifier: 0.7803134106723855\n",
      "Best Parameters for XGBoost Classifier:  {'gamma': 1.0, 'learning_rate': 0.1, 'max_depth': 3, 'n_estimators': 100}\n"
     ]
    }
   ],
   "source": [
    "# get the best estimator\n",
    "xgb_best = xgb_grid.best_estimator_\n",
    "\n",
    "print('Best Score fore XGBoost Classifier:', xgb_grid.best_score_)\n",
    "print('Best Parameters for XGBoost Classifier: ', xgb_grid.best_params_)"
   ]
  },
  {
   "cell_type": "code",
   "execution_count": 70,
   "metadata": {},
   "outputs": [
    {
     "name": "stdout",
     "output_type": "stream",
     "text": [
      "ROC Score on Test Set: 0.7742\n"
     ]
    }
   ],
   "source": [
    "# get predictions\n",
    "xgb_preds = xgb_best.predict_proba(X_test)[:,1]\n",
    "\n",
    "print('ROC Score on Test Set: {:.4f}'.format(roc_auc_score(y_test, xgb_preds)))"
   ]
  },
  {
   "cell_type": "code",
   "execution_count": 71,
   "metadata": {},
   "outputs": [],
   "source": [
    "# save model\n",
    "pickle.dump(xgb_best, open('./data/xgb_best.pickle.dat', 'wb'))"
   ]
  },
  {
   "cell_type": "code",
   "execution_count": 72,
   "metadata": {},
   "outputs": [
    {
     "data": {
      "image/png": "[encoded data removed]",
      "text/plain": [
       "<Figure size 504x720 with 1 Axes>"
      ]
     },
     "metadata": {
      "needs_background": "light"
     },
     "output_type": "display_data"
    }
   ],
   "source": [
    "feature_importances = xgb_best.feature_importances_\n",
    "pd.Series(feature_importances, X.columns).sort_values()[-10:].plot(kind='barh', figsize=(7,10))\n",
    "plt.title('Feature Importance for XGboost Classifier')\n",
    "plt.xlabel('Feature Importance')\n",
    "plt.savefig('FeatureImportance_gbc.png', dpi=500);"
   ]
  },
  {
   "cell_type": "code",
   "execution_count": null,
   "metadata": {},
   "outputs": [],
   "source": []
  }
 ],
 "metadata": {
  "kernelspec": {
   "display_name": "Python 3.9.7 ('base')",
   "language": "python",
   "name": "python3"
  },
  "language_info": {
   "codemirror_mode": {
    "name": "ipython",
    "version": 3
   },
   "file_extension": ".py",
   "mimetype": "text/x-python",
   "name": "python",
   "nbconvert_exporter": "python",
   "pygments_lexer": "ipython3",
   "version": "3.9.7"
  },
  "orig_nbformat": 4,
  "vscode": {
   "interpreter": {
    "hash": "02a52181a803ff53299aa5a818b25381770f44e55b62014a55404671963d8415"
   }
  }
 },
 "nbformat": 4,
 "nbformat_minor": 2
}
